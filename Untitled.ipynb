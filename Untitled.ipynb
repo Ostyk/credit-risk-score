{
 "cells": [
  {
   "cell_type": "code",
   "execution_count": null,
   "id": "a650fd60-0fce-4187-ae19-c99dba1b682a",
   "metadata": {},
   "outputs": [],
   "source": [
    "#!wget --no-check-certificate https://pages.stern.nyu.edu/~wgreene/Text/Edition7/TableF7-3.txt "
   ]
  },
  {
   "cell_type": "code",
   "execution_count": 106,
   "id": "f435beae-812b-462e-87ae-d180afb80d43",
   "metadata": {},
   "outputs": [
    {
     "name": "stdout",
     "output_type": "stream",
     "text": [
      "The autoreload extension is already loaded. To reload it, use:\n",
      "  %reload_ext autoreload\n"
     ]
    }
   ],
   "source": [
    "%load_ext autoreload\n",
    "%autoreload 2"
   ]
  },
  {
   "cell_type": "code",
   "execution_count": 107,
   "id": "6d8a8d0d-4c97-42e7-b6e4-3882867d094a",
   "metadata": {},
   "outputs": [
    {
     "data": {
      "text/html": [
       "        <script type=\"text/javascript\">\n",
       "        window.PlotlyConfig = {MathJaxConfig: 'local'};\n",
       "        if (window.MathJax && window.MathJax.Hub && window.MathJax.Hub.Config) {window.MathJax.Hub.Config({SVG: {font: \"STIX-Web\"}});}\n",
       "        if (typeof require !== 'undefined') {\n",
       "        require.undef(\"plotly\");\n",
       "        requirejs.config({\n",
       "            paths: {\n",
       "                'plotly': ['https://cdn.plot.ly/plotly-2.17.1.min']\n",
       "            }\n",
       "        });\n",
       "        require(['plotly'], function(Plotly) {\n",
       "            window._Plotly = Plotly;\n",
       "        });\n",
       "        }\n",
       "        </script>\n",
       "        "
      ]
     },
     "metadata": {},
     "output_type": "display_data"
    }
   ],
   "source": [
    "import pandas as pd\n",
    "import matplotlib.pyplot as plt\n",
    "import sklearn\n",
    "import numpy as np\n",
    "import seaborn as sns\n",
    "import plotly.express as ex\n",
    "%matplotlib inline\n",
    "import missingno as msno\n",
    "import plotly.offline as py \n",
    "py.init_notebook_mode(connected=True)"
   ]
  },
  {
   "cell_type": "code",
   "execution_count": 108,
   "id": "94af8167-5ad6-4218-9998-0755ad009e42",
   "metadata": {},
   "outputs": [],
   "source": [
    "from imblearn.over_sampling import BorderlineSMOTE, SMOTE,ADASYN"
   ]
  },
  {
   "cell_type": "code",
   "execution_count": 109,
   "id": "1fc52219-b35b-495f-8ab4-9fbb459ebb4b",
   "metadata": {},
   "outputs": [],
   "source": [
    "# Oversample imbalanced dataset\n",
    "from collections import Counter\n",
    "from sklearn.datasets import make_classification"
   ]
  },
  {
   "cell_type": "code",
   "execution_count": 110,
   "id": "341d74d9-dec0-4737-9459-77a2607a82e8",
   "metadata": {},
   "outputs": [],
   "source": [
    "import optuna\n",
    "import xgboost as xgb\n",
    "import lightgbm as lgb\n",
    "import catboost as cat"
   ]
  },
  {
   "cell_type": "code",
   "execution_count": 111,
   "id": "fd3bf0ab-4a78-4094-b7c9-2ebc831a67fc",
   "metadata": {},
   "outputs": [],
   "source": [
    "df = pd.read_csv(\"TableF7-3.txt\", delimiter=',', na_values=[' ', '  '])"
   ]
  },
  {
   "cell_type": "markdown",
   "id": "01134a73-5aa9-455c-8579-5224a131f884",
   "metadata": {},
   "source": [
    "# data exploration"
   ]
  },
  {
   "cell_type": "code",
   "execution_count": 112,
   "id": "3d4998d0-cc4f-4c41-9ec9-23cda27a0226",
   "metadata": {},
   "outputs": [],
   "source": [
    "# Cardhldr = Dummy variable, 1 if application for credit card accepted, 0 if not\n",
    "# Default = 1 if defaulted 0 if not (observed when Cardhldr = 1, 10,499 observations),\n",
    "# Age = Age in years plus twelfths of a year,\n",
    "# Adepcnt = 1 + number of dependents,\n",
    "# Acadmos = months living at current address,\n",
    "# Majordrg = Number of major derogatory reports,\n",
    "# Minordrg = Number of minor derogatory reports,\n",
    "# Ownrent = 1 if owns their home, 0 if rent\n",
    "# Income = Monthly income (divided by 10,000),\n",
    "# Selfempl = 1 if self employed, 0 if not,\n",
    "# Inc_per = Income divided by number of dependents,\n",
    "# Exp_Inc = Ratio of monthly credit card expenditure to yearly income,\n",
    "# Spending = Average monthly credit card expenditure (for Cardhldr = 1),\n",
    "# Logspend = Log of spending. \n",
    "\n",
    "# https://pages.stern.nyu.edu/~wgreene/Text/Edition7/2016tablelist7.htm"
   ]
  },
  {
   "cell_type": "code",
   "execution_count": 113,
   "id": "7be14543-0e55-4f81-9fee-a19b25804ff8",
   "metadata": {},
   "outputs": [
    {
     "name": "stdout",
     "output_type": "stream",
     "text": [
      "<class 'pandas.core.frame.DataFrame'>\n",
      "RangeIndex: 13444 entries, 0 to 13443\n",
      "Data columns (total 14 columns):\n",
      " #   Column     Non-Null Count  Dtype  \n",
      "---  ------     --------------  -----  \n",
      " 0   CARDHLDR   13444 non-null  int64  \n",
      " 1   DEFAULT    13444 non-null  int64  \n",
      " 2   AGE        13444 non-null  float64\n",
      " 3   ACADMOS    13444 non-null  int64  \n",
      " 4   ADEPCNT    13444 non-null  int64  \n",
      " 5   MAJORDRG   13444 non-null  int64  \n",
      " 6   MINORDRG   13444 non-null  int64  \n",
      " 7   OWNRENT    13444 non-null  int64  \n",
      " 8   INCOME     13444 non-null  float64\n",
      " 9   SELFEMPL   13444 non-null  int64  \n",
      " 10  INCPER     13444 non-null  float64\n",
      " 11  EXP_INC    13444 non-null  float64\n",
      " 12  SPENDING   10499 non-null  float64\n",
      " 13  LOGSPEND   10499 non-null  float64\n",
      "dtypes: float64(6), int64(8)\n",
      "memory usage: 1.4 MB\n"
     ]
    }
   ],
   "source": [
    "df.info()"
   ]
  },
  {
   "cell_type": "code",
   "execution_count": 114,
   "id": "e2718f68-bffd-444d-95d5-8cd4bd7286cd",
   "metadata": {},
   "outputs": [
    {
     "data": {
      "text/plain": [
       "CARDHLDR        0\n",
       "DEFAULT         0\n",
       "AGE             0\n",
       "ACADMOS         0\n",
       "ADEPCNT         0\n",
       "MAJORDRG        0\n",
       "MINORDRG        0\n",
       "OWNRENT         0\n",
       "INCOME          0\n",
       "SELFEMPL        0\n",
       "INCPER          0\n",
       "EXP_INC         0\n",
       "SPENDING     2945\n",
       "LOGSPEND     2945\n",
       "dtype: int64"
      ]
     },
     "execution_count": 114,
     "metadata": {},
     "output_type": "execute_result"
    }
   ],
   "source": [
    "df.isna().sum()"
   ]
  },
  {
   "cell_type": "code",
   "execution_count": 115,
   "id": "6c9bd9a5-3214-4c2b-93ed-21cb70e38996",
   "metadata": {},
   "outputs": [],
   "source": [
    "# step 1: see data imbalance\n",
    "# step 2: checkout meaning of features \n",
    "# step 3: get rid of cross corelated featues\n",
    "# step 4: handle data imbalance\n",
    "# step 5: fill in missing data\n",
    "# step 6: build simple model\n",
    "# validate etc.\n",
    "# check out SOTA\n"
   ]
  },
  {
   "cell_type": "code",
   "execution_count": 116,
   "id": "778baecc-4793-480d-a3ed-9b19d57f8658",
   "metadata": {},
   "outputs": [
    {
     "data": {
      "text/plain": [
       "0    12448\n",
       "1      996\n",
       "Name: DEFAULT, dtype: int64"
      ]
     },
     "execution_count": 116,
     "metadata": {},
     "output_type": "execute_result"
    }
   ],
   "source": [
    "df.DEFAULT.value_counts() "
   ]
  },
  {
   "cell_type": "code",
   "execution_count": 117,
   "id": "60a7f720-c836-45cf-a2eb-e1b894167763",
   "metadata": {},
   "outputs": [
    {
     "data": {
      "text/plain": [
       "0    92.591491\n",
       "1     7.408509\n",
       "Name: DEFAULT, dtype: float64"
      ]
     },
     "execution_count": 117,
     "metadata": {},
     "output_type": "execute_result"
    }
   ],
   "source": [
    "df.DEFAULT.value_counts() / len(df) * 100\n",
    "\n"
   ]
  },
  {
   "cell_type": "code",
   "execution_count": 118,
   "id": "52141cf9-99a6-4830-af88-26e0910acfcf",
   "metadata": {},
   "outputs": [
    {
     "data": {
      "text/plain": [
       "<AxesSubplot: xlabel='DEFAULT', ylabel='count'>"
      ]
     },
     "execution_count": 118,
     "metadata": {},
     "output_type": "execute_result"
    },
    {
     "data": {
      "image/png": "[encoded data removed]",
      "text/plain": [
       "<Figure size 640x480 with 1 Axes>"
      ]
     },
     "metadata": {},
     "output_type": "display_data"
    }
   ],
   "source": [
    "sns.countplot(df, x='DEFAULT')"
   ]
  },
  {
   "cell_type": "code",
   "execution_count": 119,
   "id": "7900a534-8bcf-46bd-8556-3b72a2e86228",
   "metadata": {},
   "outputs": [
    {
     "data": {
      "text/html": [
       "<div>\n",
       "<style scoped>\n",
       "    .dataframe tbody tr th:only-of-type {\n",
       "        vertical-align: middle;\n",
       "    }\n",
       "\n",
       "    .dataframe tbody tr th {\n",
       "        vertical-align: top;\n",
       "    }\n",
       "\n",
       "    .dataframe thead th {\n",
       "        text-align: right;\n",
       "    }\n",
       "</style>\n",
       "<table border=\"1\" class=\"dataframe\">\n",
       "  <thead>\n",
       "    <tr style=\"text-align: right;\">\n",
       "      <th></th>\n",
       "      <th>count</th>\n",
       "      <th>mean</th>\n",
       "      <th>std</th>\n",
       "      <th>min</th>\n",
       "      <th>25%</th>\n",
       "      <th>50%</th>\n",
       "      <th>75%</th>\n",
       "      <th>max</th>\n",
       "    </tr>\n",
       "  </thead>\n",
       "  <tbody>\n",
       "    <tr>\n",
       "      <th>CARDHLDR</th>\n",
       "      <td>13444.0</td>\n",
       "      <td>0.780943</td>\n",
       "      <td>0.413623</td>\n",
       "      <td>0.000000</td>\n",
       "      <td>1.000000</td>\n",
       "      <td>1.000000</td>\n",
       "      <td>1.000000</td>\n",
       "      <td>1.000000</td>\n",
       "    </tr>\n",
       "    <tr>\n",
       "      <th>DEFAULT</th>\n",
       "      <td>13444.0</td>\n",
       "      <td>0.074085</td>\n",
       "      <td>0.261919</td>\n",
       "      <td>0.000000</td>\n",
       "      <td>0.000000</td>\n",
       "      <td>0.000000</td>\n",
       "      <td>0.000000</td>\n",
       "      <td>1.000000</td>\n",
       "    </tr>\n",
       "    <tr>\n",
       "      <th>AGE</th>\n",
       "      <td>13444.0</td>\n",
       "      <td>33.471828</td>\n",
       "      <td>10.226484</td>\n",
       "      <td>0.000000</td>\n",
       "      <td>25.666666</td>\n",
       "      <td>31.500000</td>\n",
       "      <td>39.333332</td>\n",
       "      <td>88.666664</td>\n",
       "    </tr>\n",
       "    <tr>\n",
       "      <th>ACADMOS</th>\n",
       "      <td>13444.0</td>\n",
       "      <td>55.318878</td>\n",
       "      <td>63.089729</td>\n",
       "      <td>0.000000</td>\n",
       "      <td>12.000000</td>\n",
       "      <td>30.000000</td>\n",
       "      <td>72.000000</td>\n",
       "      <td>576.000000</td>\n",
       "    </tr>\n",
       "    <tr>\n",
       "      <th>ADEPCNT</th>\n",
       "      <td>13444.0</td>\n",
       "      <td>1.017257</td>\n",
       "      <td>1.279098</td>\n",
       "      <td>0.000000</td>\n",
       "      <td>0.000000</td>\n",
       "      <td>1.000000</td>\n",
       "      <td>2.000000</td>\n",
       "      <td>9.000000</td>\n",
       "    </tr>\n",
       "    <tr>\n",
       "      <th>MAJORDRG</th>\n",
       "      <td>13444.0</td>\n",
       "      <td>0.462809</td>\n",
       "      <td>1.432724</td>\n",
       "      <td>0.000000</td>\n",
       "      <td>0.000000</td>\n",
       "      <td>0.000000</td>\n",
       "      <td>0.000000</td>\n",
       "      <td>22.000000</td>\n",
       "    </tr>\n",
       "    <tr>\n",
       "      <th>MINORDRG</th>\n",
       "      <td>13444.0</td>\n",
       "      <td>0.290539</td>\n",
       "      <td>0.767620</td>\n",
       "      <td>0.000000</td>\n",
       "      <td>0.000000</td>\n",
       "      <td>0.000000</td>\n",
       "      <td>0.000000</td>\n",
       "      <td>11.000000</td>\n",
       "    </tr>\n",
       "    <tr>\n",
       "      <th>OWNRENT</th>\n",
       "      <td>13444.0</td>\n",
       "      <td>0.455965</td>\n",
       "      <td>0.498076</td>\n",
       "      <td>0.000000</td>\n",
       "      <td>0.000000</td>\n",
       "      <td>0.000000</td>\n",
       "      <td>1.000000</td>\n",
       "      <td>1.000000</td>\n",
       "    </tr>\n",
       "    <tr>\n",
       "      <th>INCOME</th>\n",
       "      <td>13444.0</td>\n",
       "      <td>2509.527819</td>\n",
       "      <td>1252.946716</td>\n",
       "      <td>50.000000</td>\n",
       "      <td>1666.666667</td>\n",
       "      <td>2166.666667</td>\n",
       "      <td>2916.666667</td>\n",
       "      <td>8333.250000</td>\n",
       "    </tr>\n",
       "    <tr>\n",
       "      <th>SELFEMPL</th>\n",
       "      <td>13444.0</td>\n",
       "      <td>0.057944</td>\n",
       "      <td>0.233646</td>\n",
       "      <td>0.000000</td>\n",
       "      <td>0.000000</td>\n",
       "      <td>0.000000</td>\n",
       "      <td>0.000000</td>\n",
       "      <td>1.000000</td>\n",
       "    </tr>\n",
       "    <tr>\n",
       "      <th>INCPER</th>\n",
       "      <td>13444.0</td>\n",
       "      <td>21719.680793</td>\n",
       "      <td>13591.209469</td>\n",
       "      <td>362.500000</td>\n",
       "      <td>12000.000000</td>\n",
       "      <td>19000.000000</td>\n",
       "      <td>27658.666504</td>\n",
       "      <td>150000.000000</td>\n",
       "    </tr>\n",
       "    <tr>\n",
       "      <th>EXP_INC</th>\n",
       "      <td>13444.0</td>\n",
       "      <td>0.070974</td>\n",
       "      <td>0.103922</td>\n",
       "      <td>0.000088</td>\n",
       "      <td>0.002706</td>\n",
       "      <td>0.039286</td>\n",
       "      <td>0.095655</td>\n",
       "      <td>2.037728</td>\n",
       "    </tr>\n",
       "    <tr>\n",
       "      <th>SPENDING</th>\n",
       "      <td>10499.0</td>\n",
       "      <td>226.983318</td>\n",
       "      <td>294.101184</td>\n",
       "      <td>0.111111</td>\n",
       "      <td>58.752881</td>\n",
       "      <td>139.991672</td>\n",
       "      <td>284.439924</td>\n",
       "      <td>4810.309038</td>\n",
       "    </tr>\n",
       "    <tr>\n",
       "      <th>LOGSPEND</th>\n",
       "      <td>10499.0</td>\n",
       "      <td>4.728778</td>\n",
       "      <td>1.404820</td>\n",
       "      <td>-2.197225</td>\n",
       "      <td>4.073340</td>\n",
       "      <td>4.941583</td>\n",
       "      <td>5.650522</td>\n",
       "      <td>8.478517</td>\n",
       "    </tr>\n",
       "  </tbody>\n",
       "</table>\n",
       "</div>"
      ],
      "text/plain": [
       "             count          mean           std         min           25%  \\\n",
       "CARDHLDR   13444.0      0.780943      0.413623    0.000000      1.000000   \n",
       "DEFAULT    13444.0      0.074085      0.261919    0.000000      0.000000   \n",
       "AGE        13444.0     33.471828     10.226484    0.000000     25.666666   \n",
       "ACADMOS    13444.0     55.318878     63.089729    0.000000     12.000000   \n",
       "ADEPCNT    13444.0      1.017257      1.279098    0.000000      0.000000   \n",
       "MAJORDRG   13444.0      0.462809      1.432724    0.000000      0.000000   \n",
       "MINORDRG   13444.0      0.290539      0.767620    0.000000      0.000000   \n",
       "OWNRENT    13444.0      0.455965      0.498076    0.000000      0.000000   \n",
       "INCOME     13444.0   2509.527819   1252.946716   50.000000   1666.666667   \n",
       "SELFEMPL   13444.0      0.057944      0.233646    0.000000      0.000000   \n",
       "INCPER     13444.0  21719.680793  13591.209469  362.500000  12000.000000   \n",
       "EXP_INC    13444.0      0.070974      0.103922    0.000088      0.002706   \n",
       "SPENDING   10499.0    226.983318    294.101184    0.111111     58.752881   \n",
       "LOGSPEND   10499.0      4.728778      1.404820   -2.197225      4.073340   \n",
       "\n",
       "                    50%           75%            max  \n",
       "CARDHLDR       1.000000      1.000000       1.000000  \n",
       "DEFAULT        0.000000      0.000000       1.000000  \n",
       "AGE           31.500000     39.333332      88.666664  \n",
       "ACADMOS       30.000000     72.000000     576.000000  \n",
       "ADEPCNT        1.000000      2.000000       9.000000  \n",
       "MAJORDRG       0.000000      0.000000      22.000000  \n",
       "MINORDRG       0.000000      0.000000      11.000000  \n",
       "OWNRENT        0.000000      1.000000       1.000000  \n",
       "INCOME      2166.666667   2916.666667    8333.250000  \n",
       "SELFEMPL       0.000000      0.000000       1.000000  \n",
       "INCPER     19000.000000  27658.666504  150000.000000  \n",
       "EXP_INC        0.039286      0.095655       2.037728  \n",
       "SPENDING     139.991672    284.439924    4810.309038  \n",
       "LOGSPEND       4.941583      5.650522       8.478517  "
      ]
     },
     "execution_count": 119,
     "metadata": {},
     "output_type": "execute_result"
    }
   ],
   "source": [
    "df.describe().T"
   ]
  },
  {
   "cell_type": "code",
   "execution_count": 120,
   "id": "809faa0f-fd54-408e-ad04-abf03f0696c5",
   "metadata": {},
   "outputs": [
    {
     "data": {
      "text/plain": [
       "CARDHLDR        0\n",
       "DEFAULT         0\n",
       "AGE             0\n",
       "ACADMOS         0\n",
       "ADEPCNT         0\n",
       "MAJORDRG        0\n",
       "MINORDRG        0\n",
       "OWNRENT         0\n",
       "INCOME          0\n",
       "SELFEMPL        0\n",
       "INCPER          0\n",
       "EXP_INC         0\n",
       "SPENDING     2945\n",
       "LOGSPEND     2945\n",
       "dtype: int64"
      ]
     },
     "execution_count": 120,
     "metadata": {},
     "output_type": "execute_result"
    }
   ],
   "source": [
    "df.isnull().sum()"
   ]
  },
  {
   "cell_type": "code",
   "execution_count": 121,
   "id": "d9dd8502-2bdf-40a8-829b-b2b93b30a321",
   "metadata": {},
   "outputs": [
    {
     "data": {
      "text/plain": [
       "<seaborn.axisgrid.FacetGrid at 0x7f60bec98e50>"
      ]
     },
     "execution_count": 121,
     "metadata": {},
     "output_type": "execute_result"
    },
    {
     "data": {
      "image/png": "[encoded data removed]",
      "text/plain": [
       "<Figure size 500x500 with 1 Axes>"
      ]
     },
     "metadata": {},
     "output_type": "display_data"
    }
   ],
   "source": [
    "sns.displot(df['SPENDING'].values, color='b')\n"
   ]
  },
  {
   "cell_type": "code",
   "execution_count": 122,
   "id": "a2d413aa-652f-4255-8396-42bb559f8789",
   "metadata": {},
   "outputs": [
    {
     "name": "stderr",
     "output_type": "stream",
     "text": [
      "/tmp/ipykernel_39800/3250868451.py:1: UserWarning:\n",
      "\n",
      "\n",
      "\n",
      "`distplot` is a deprecated function and will be removed in seaborn v0.14.0.\n",
      "\n",
      "Please adapt your code to use either `displot` (a figure-level function with\n",
      "similar flexibility) or `histplot` (an axes-level function for histograms).\n",
      "\n",
      "For a guide to updating your code to use the new functions, please see\n",
      "https://gist.github.com/mwaskom/de44147ed2974457ad6372750bbe5751\n",
      "\n",
      "\n"
     ]
    },
    {
     "data": {
      "text/plain": [
       "<AxesSubplot: ylabel='Density'>"
      ]
     },
     "execution_count": 122,
     "metadata": {},
     "output_type": "execute_result"
    },
    {
     "data": {
      "image/png": "[encoded data removed]",
      "text/plain": [
       "<Figure size 640x480 with 1 Axes>"
      ]
     },
     "metadata": {},
     "output_type": "display_data"
    }
   ],
   "source": [
    "sns.distplot(df['AGE'].values, color='b')\n"
   ]
  },
  {
   "cell_type": "code",
   "execution_count": 123,
   "id": "0d9db4eb-3c70-422f-9624-83d39a441498",
   "metadata": {},
   "outputs": [],
   "source": [
    "# fig, axes = plt.subplots(nrows=3, ncols=3, figsize=(15, 7), sharex = False, sharey = False)\n",
    "# axes = axes.ravel()  \n",
    "# cols = df_num.columns[:]\n",
    "\n",
    "# for col, ax in zip(cols, axes):\n",
    "#     data = df_num \n",
    "#     sns.kdeplot(data=data, x=col, shade=True, ax=ax)\n",
    "#     ax.set(title=f'Distribution of Variable: {col}', xlabel=None)\n",
    "    \n",
    "# fig.delaxes(axes[8])\n",
    "# fig.tight_layout()\n",
    "# plt.show()\n"
   ]
  },
  {
   "cell_type": "code",
   "execution_count": 124,
   "id": "2309cc29-b99f-4542-ba0e-7eff66a6b784",
   "metadata": {},
   "outputs": [
    {
     "data": {
      "text/plain": [
       "Index(['CARDHLDR', 'DEFAULT', 'AGE', 'ACADMOS', 'ADEPCNT', 'MAJORDRG',\n",
       "       'MINORDRG', 'OWNRENT', 'INCOME', 'SELFEMPL', 'INCPER', 'EXP_INC',\n",
       "       'SPENDING', 'LOGSPEND '],\n",
       "      dtype='object')"
      ]
     },
     "execution_count": 124,
     "metadata": {},
     "output_type": "execute_result"
    }
   ],
   "source": [
    "df.columns"
   ]
  },
  {
   "cell_type": "code",
   "execution_count": 125,
   "id": "0d6cdccf-81d9-48c9-8463-36080e313a7e",
   "metadata": {},
   "outputs": [],
   "source": [
    "df = df[df['CARDHLDR'] == 1] # 1 if defaulted 0 if not (observed when Cardhldr = 1, 10,499 observations), \n",
    "df = df.drop(['CARDHLDR'], axis=1)"
   ]
  },
  {
   "cell_type": "code",
   "execution_count": null,
   "id": "7341af18-67ad-42ca-87ee-39214336d7dc",
   "metadata": {},
   "outputs": [],
   "source": []
  },
  {
   "cell_type": "markdown",
   "id": "f5d99976-04e2-47cd-883f-df5c9d59cc3f",
   "metadata": {},
   "source": [
    "# Age variable"
   ]
  },
  {
   "cell_type": "code",
   "execution_count": 126,
   "id": "42947980-182b-4e8b-9291-70cbcd72b537",
   "metadata": {},
   "outputs": [],
   "source": [
    "# convert age to a categorical variable"
   ]
  },
  {
   "cell_type": "code",
   "execution_count": 128,
   "id": "545bd0c7-e309-4e8a-8488-ad8061aa27c3",
   "metadata": {},
   "outputs": [
    {
     "data": {
      "text/plain": [
       "<AxesSubplot: >"
      ]
     },
     "execution_count": 128,
     "metadata": {},
     "output_type": "execute_result"
    },
    {
     "data": {
      "image/png": "[encoded data removed]",
      "text/plain": [
       "<Figure size 640x480 with 1 Axes>"
      ]
     },
     "metadata": {},
     "output_type": "display_data"
    }
   ],
   "source": [
    "df[df.AGE<18]['AGE'].hist()"
   ]
  },
  {
   "cell_type": "code",
   "execution_count": 129,
   "id": "e71cd369-5a3b-4963-861d-e32fffcb34b1",
   "metadata": {},
   "outputs": [
    {
     "data": {
      "text/plain": [
       "0.36193923230783887"
      ]
     },
     "execution_count": 129,
     "metadata": {},
     "output_type": "execute_result"
    }
   ],
   "source": [
    "df[df.AGE<18]['AGE'].shape[0] / len(df) * 100"
   ]
  },
  {
   "cell_type": "code",
   "execution_count": 130,
   "id": "30def822-ae59-455e-a857-f19374d84d7f",
   "metadata": {},
   "outputs": [],
   "source": [
    "df = df[df.AGE>18] # get rid of under 18"
   ]
  },
  {
   "cell_type": "code",
   "execution_count": null,
   "id": "71516b4b-06be-4c54-a97a-30535455a80d",
   "metadata": {},
   "outputs": [],
   "source": []
  },
  {
   "cell_type": "code",
   "execution_count": 131,
   "id": "98c252d3-bf1c-4d92-8ccc-54ce471d88bb",
   "metadata": {},
   "outputs": [],
   "source": [
    "# interval = (18, 25, 35, 60, 120)\n",
    "\n",
    "# cats = ['Student', 'Young', 'Adult', 'Senior']\n",
    "# df[\"AGE\"] = pd.cut(df['AGE'], interval, labels=cats)"
   ]
  },
  {
   "cell_type": "code",
   "execution_count": 132,
   "id": "d3e66848-3b93-4bb6-b41c-414f1ca1cf6c",
   "metadata": {},
   "outputs": [
    {
     "data": {
      "text/plain": [
       "DEFAULT      1.000000\n",
       "MINORDRG     0.038493\n",
       "MAJORDRG     0.023435\n",
       "ACADMOS      0.004367\n",
       "ADEPCNT      0.000866\n",
       "SELFEMPL    -0.010628\n",
       "EXP_INC     -0.027384\n",
       "OWNRENT     -0.062823\n",
       "SPENDING    -0.072911\n",
       "LOGSPEND    -0.072911\n",
       "AGE         -0.073423\n",
       "INCPER      -0.082159\n",
       "INCOME      -0.136190\n",
       "Name: DEFAULT, dtype: float64"
      ]
     },
     "execution_count": 132,
     "metadata": {},
     "output_type": "execute_result"
    }
   ],
   "source": [
    "cor = df.corr(method = 'spearman')['DEFAULT'].sort_values(ascending=False)\n",
    "cor"
   ]
  },
  {
   "cell_type": "markdown",
   "id": "34675ae1-7d39-4f92-87c6-b82eae50478e",
   "metadata": {},
   "source": [
    "\n",
    "\n",
    "Correlation between features are target are not very high\n"
   ]
  },
  {
   "cell_type": "code",
   "execution_count": 133,
   "id": "414cc4bb-ea3d-4e6b-b41e-ee519bef4792",
   "metadata": {},
   "outputs": [
    {
     "data": {
      "image/png": "[encoded data removed]",
      "text/plain": [
       "<Figure size 1400x1400 with 2 Axes>"
      ]
     },
     "metadata": {},
     "output_type": "display_data"
    }
   ],
   "source": [
    "plt.figure(figsize = (14,14))\n",
    "plt.title('Credit Risk correlation plot (Pearson)')\n",
    "cor_matrix = df.corr()\n",
    "upper_tri = cor_matrix.where(np.triu(np.ones(cor_matrix.shape),k=1).astype(bool))\n",
    "upper_tri\n",
    "sns.heatmap(upper_tri,xticklabels=cor_matrix.columns,yticklabels=cor_matrix.columns,linewidths=.1,cmap=\"Greens\")\n",
    "plt.show()\n"
   ]
  },
  {
   "cell_type": "code",
   "execution_count": 134,
   "id": "218de514-840a-42b9-8241-e4dc2a98b04b",
   "metadata": {},
   "outputs": [
    {
     "data": {
      "text/plain": [
       "['SPENDING', 'LOGSPEND ']"
      ]
     },
     "execution_count": 134,
     "metadata": {},
     "output_type": "execute_result"
    }
   ],
   "source": [
    "to_drop = [column for column in upper_tri.columns if any(upper_tri[column] > 0.6)]\n",
    "to_drop"
   ]
  },
  {
   "cell_type": "code",
   "execution_count": 135,
   "id": "e224437e-ce13-4c5c-a0d1-2910593b391c",
   "metadata": {},
   "outputs": [
    {
     "data": {
      "text/html": [
       "<div>\n",
       "<style scoped>\n",
       "    .dataframe tbody tr th:only-of-type {\n",
       "        vertical-align: middle;\n",
       "    }\n",
       "\n",
       "    .dataframe tbody tr th {\n",
       "        vertical-align: top;\n",
       "    }\n",
       "\n",
       "    .dataframe thead th {\n",
       "        text-align: right;\n",
       "    }\n",
       "</style>\n",
       "<table border=\"1\" class=\"dataframe\">\n",
       "  <thead>\n",
       "    <tr style=\"text-align: right;\">\n",
       "      <th></th>\n",
       "      <th>DEFAULT</th>\n",
       "      <th>AGE</th>\n",
       "      <th>ACADMOS</th>\n",
       "      <th>ADEPCNT</th>\n",
       "      <th>MAJORDRG</th>\n",
       "      <th>MINORDRG</th>\n",
       "      <th>OWNRENT</th>\n",
       "      <th>INCOME</th>\n",
       "      <th>SELFEMPL</th>\n",
       "      <th>INCPER</th>\n",
       "      <th>EXP_INC</th>\n",
       "      <th>SPENDING</th>\n",
       "      <th>LOGSPEND</th>\n",
       "    </tr>\n",
       "  </thead>\n",
       "  <tbody>\n",
       "    <tr>\n",
       "      <th>DEFAULT</th>\n",
       "      <td>1.0</td>\n",
       "      <td>NaN</td>\n",
       "      <td>NaN</td>\n",
       "      <td>NaN</td>\n",
       "      <td>NaN</td>\n",
       "      <td>NaN</td>\n",
       "      <td>NaN</td>\n",
       "      <td>NaN</td>\n",
       "      <td>NaN</td>\n",
       "      <td>NaN</td>\n",
       "      <td>NaN</td>\n",
       "      <td>NaN</td>\n",
       "      <td>NaN</td>\n",
       "    </tr>\n",
       "    <tr>\n",
       "      <th>AGE</th>\n",
       "      <td>NaN</td>\n",
       "      <td>1.0</td>\n",
       "      <td>NaN</td>\n",
       "      <td>NaN</td>\n",
       "      <td>NaN</td>\n",
       "      <td>NaN</td>\n",
       "      <td>NaN</td>\n",
       "      <td>NaN</td>\n",
       "      <td>NaN</td>\n",
       "      <td>NaN</td>\n",
       "      <td>NaN</td>\n",
       "      <td>NaN</td>\n",
       "      <td>NaN</td>\n",
       "    </tr>\n",
       "    <tr>\n",
       "      <th>ACADMOS</th>\n",
       "      <td>NaN</td>\n",
       "      <td>NaN</td>\n",
       "      <td>1.0</td>\n",
       "      <td>NaN</td>\n",
       "      <td>NaN</td>\n",
       "      <td>NaN</td>\n",
       "      <td>NaN</td>\n",
       "      <td>NaN</td>\n",
       "      <td>NaN</td>\n",
       "      <td>NaN</td>\n",
       "      <td>NaN</td>\n",
       "      <td>NaN</td>\n",
       "      <td>NaN</td>\n",
       "    </tr>\n",
       "    <tr>\n",
       "      <th>ADEPCNT</th>\n",
       "      <td>NaN</td>\n",
       "      <td>NaN</td>\n",
       "      <td>NaN</td>\n",
       "      <td>1.000000</td>\n",
       "      <td>NaN</td>\n",
       "      <td>NaN</td>\n",
       "      <td>NaN</td>\n",
       "      <td>NaN</td>\n",
       "      <td>NaN</td>\n",
       "      <td>-0.541533</td>\n",
       "      <td>NaN</td>\n",
       "      <td>NaN</td>\n",
       "      <td>NaN</td>\n",
       "    </tr>\n",
       "    <tr>\n",
       "      <th>MAJORDRG</th>\n",
       "      <td>NaN</td>\n",
       "      <td>NaN</td>\n",
       "      <td>NaN</td>\n",
       "      <td>NaN</td>\n",
       "      <td>1.0</td>\n",
       "      <td>NaN</td>\n",
       "      <td>NaN</td>\n",
       "      <td>NaN</td>\n",
       "      <td>NaN</td>\n",
       "      <td>NaN</td>\n",
       "      <td>NaN</td>\n",
       "      <td>NaN</td>\n",
       "      <td>NaN</td>\n",
       "    </tr>\n",
       "    <tr>\n",
       "      <th>MINORDRG</th>\n",
       "      <td>NaN</td>\n",
       "      <td>NaN</td>\n",
       "      <td>NaN</td>\n",
       "      <td>NaN</td>\n",
       "      <td>NaN</td>\n",
       "      <td>1.0</td>\n",
       "      <td>NaN</td>\n",
       "      <td>NaN</td>\n",
       "      <td>NaN</td>\n",
       "      <td>NaN</td>\n",
       "      <td>NaN</td>\n",
       "      <td>NaN</td>\n",
       "      <td>NaN</td>\n",
       "    </tr>\n",
       "    <tr>\n",
       "      <th>OWNRENT</th>\n",
       "      <td>NaN</td>\n",
       "      <td>NaN</td>\n",
       "      <td>NaN</td>\n",
       "      <td>NaN</td>\n",
       "      <td>NaN</td>\n",
       "      <td>NaN</td>\n",
       "      <td>1.0</td>\n",
       "      <td>NaN</td>\n",
       "      <td>NaN</td>\n",
       "      <td>NaN</td>\n",
       "      <td>NaN</td>\n",
       "      <td>NaN</td>\n",
       "      <td>NaN</td>\n",
       "    </tr>\n",
       "    <tr>\n",
       "      <th>INCOME</th>\n",
       "      <td>NaN</td>\n",
       "      <td>NaN</td>\n",
       "      <td>NaN</td>\n",
       "      <td>NaN</td>\n",
       "      <td>NaN</td>\n",
       "      <td>NaN</td>\n",
       "      <td>NaN</td>\n",
       "      <td>1.0</td>\n",
       "      <td>NaN</td>\n",
       "      <td>NaN</td>\n",
       "      <td>NaN</td>\n",
       "      <td>NaN</td>\n",
       "      <td>NaN</td>\n",
       "    </tr>\n",
       "    <tr>\n",
       "      <th>SELFEMPL</th>\n",
       "      <td>NaN</td>\n",
       "      <td>NaN</td>\n",
       "      <td>NaN</td>\n",
       "      <td>NaN</td>\n",
       "      <td>NaN</td>\n",
       "      <td>NaN</td>\n",
       "      <td>NaN</td>\n",
       "      <td>NaN</td>\n",
       "      <td>1.0</td>\n",
       "      <td>NaN</td>\n",
       "      <td>NaN</td>\n",
       "      <td>NaN</td>\n",
       "      <td>NaN</td>\n",
       "    </tr>\n",
       "    <tr>\n",
       "      <th>INCPER</th>\n",
       "      <td>NaN</td>\n",
       "      <td>NaN</td>\n",
       "      <td>NaN</td>\n",
       "      <td>-0.541533</td>\n",
       "      <td>NaN</td>\n",
       "      <td>NaN</td>\n",
       "      <td>NaN</td>\n",
       "      <td>NaN</td>\n",
       "      <td>NaN</td>\n",
       "      <td>1.000000</td>\n",
       "      <td>NaN</td>\n",
       "      <td>NaN</td>\n",
       "      <td>NaN</td>\n",
       "    </tr>\n",
       "    <tr>\n",
       "      <th>EXP_INC</th>\n",
       "      <td>NaN</td>\n",
       "      <td>NaN</td>\n",
       "      <td>NaN</td>\n",
       "      <td>NaN</td>\n",
       "      <td>NaN</td>\n",
       "      <td>NaN</td>\n",
       "      <td>NaN</td>\n",
       "      <td>NaN</td>\n",
       "      <td>NaN</td>\n",
       "      <td>NaN</td>\n",
       "      <td>1.000000</td>\n",
       "      <td>0.840736</td>\n",
       "      <td>0.645575</td>\n",
       "    </tr>\n",
       "    <tr>\n",
       "      <th>SPENDING</th>\n",
       "      <td>NaN</td>\n",
       "      <td>NaN</td>\n",
       "      <td>NaN</td>\n",
       "      <td>NaN</td>\n",
       "      <td>NaN</td>\n",
       "      <td>NaN</td>\n",
       "      <td>NaN</td>\n",
       "      <td>NaN</td>\n",
       "      <td>NaN</td>\n",
       "      <td>NaN</td>\n",
       "      <td>0.840736</td>\n",
       "      <td>1.000000</td>\n",
       "      <td>0.680771</td>\n",
       "    </tr>\n",
       "    <tr>\n",
       "      <th>LOGSPEND</th>\n",
       "      <td>NaN</td>\n",
       "      <td>NaN</td>\n",
       "      <td>NaN</td>\n",
       "      <td>NaN</td>\n",
       "      <td>NaN</td>\n",
       "      <td>NaN</td>\n",
       "      <td>NaN</td>\n",
       "      <td>NaN</td>\n",
       "      <td>NaN</td>\n",
       "      <td>NaN</td>\n",
       "      <td>0.645575</td>\n",
       "      <td>0.680771</td>\n",
       "      <td>1.000000</td>\n",
       "    </tr>\n",
       "  </tbody>\n",
       "</table>\n",
       "</div>"
      ],
      "text/plain": [
       "           DEFAULT  AGE  ACADMOS   ADEPCNT  MAJORDRG  MINORDRG  OWNRENT  \\\n",
       "DEFAULT        1.0  NaN      NaN       NaN       NaN       NaN      NaN   \n",
       "AGE            NaN  1.0      NaN       NaN       NaN       NaN      NaN   \n",
       "ACADMOS        NaN  NaN      1.0       NaN       NaN       NaN      NaN   \n",
       "ADEPCNT        NaN  NaN      NaN  1.000000       NaN       NaN      NaN   \n",
       "MAJORDRG       NaN  NaN      NaN       NaN       1.0       NaN      NaN   \n",
       "MINORDRG       NaN  NaN      NaN       NaN       NaN       1.0      NaN   \n",
       "OWNRENT        NaN  NaN      NaN       NaN       NaN       NaN      1.0   \n",
       "INCOME         NaN  NaN      NaN       NaN       NaN       NaN      NaN   \n",
       "SELFEMPL       NaN  NaN      NaN       NaN       NaN       NaN      NaN   \n",
       "INCPER         NaN  NaN      NaN -0.541533       NaN       NaN      NaN   \n",
       "EXP_INC        NaN  NaN      NaN       NaN       NaN       NaN      NaN   \n",
       "SPENDING       NaN  NaN      NaN       NaN       NaN       NaN      NaN   \n",
       "LOGSPEND       NaN  NaN      NaN       NaN       NaN       NaN      NaN   \n",
       "\n",
       "           INCOME  SELFEMPL    INCPER   EXP_INC  SPENDING  LOGSPEND   \n",
       "DEFAULT       NaN       NaN       NaN       NaN       NaN        NaN  \n",
       "AGE           NaN       NaN       NaN       NaN       NaN        NaN  \n",
       "ACADMOS       NaN       NaN       NaN       NaN       NaN        NaN  \n",
       "ADEPCNT       NaN       NaN -0.541533       NaN       NaN        NaN  \n",
       "MAJORDRG      NaN       NaN       NaN       NaN       NaN        NaN  \n",
       "MINORDRG      NaN       NaN       NaN       NaN       NaN        NaN  \n",
       "OWNRENT       NaN       NaN       NaN       NaN       NaN        NaN  \n",
       "INCOME        1.0       NaN       NaN       NaN       NaN        NaN  \n",
       "SELFEMPL      NaN       1.0       NaN       NaN       NaN        NaN  \n",
       "INCPER        NaN       NaN  1.000000       NaN       NaN        NaN  \n",
       "EXP_INC       NaN       NaN       NaN  1.000000  0.840736   0.645575  \n",
       "SPENDING      NaN       NaN       NaN  0.840736  1.000000   0.680771  \n",
       "LOGSPEND      NaN       NaN       NaN  0.645575  0.680771   1.000000  "
      ]
     },
     "execution_count": 135,
     "metadata": {},
     "output_type": "execute_result"
    }
   ],
   "source": [
    "cor = df.corr()\n",
    "cor[((cor >= .5) | (cor<= -.5))]"
   ]
  },
  {
   "cell_type": "code",
   "execution_count": 136,
   "id": "94471ddb-3d88-4fa8-96f7-8130019caaa8",
   "metadata": {},
   "outputs": [],
   "source": [
    "# fig, axes = plt.subplots(nrows=3, ncols=3, figsize=(15, 7), sharex = False, sharey = False)\n",
    "# axes = axes.ravel()  \n",
    "# df_num = df.drop(['CARDHLDR'], axis=1)\n",
    "# cols = df_num.columns[:]\n",
    "\n",
    "# for col, ax in zip(cols, axes):\n",
    "#     data = df_num \n",
    "#     sns.kdeplot(data=data, x=col, shade=True, ax=ax)\n",
    "#     ax.set(title=f'Distribution of Variable: {col}', xlabel=None)\n",
    "    \n",
    "# fig.delaxes(axes[8])\n",
    "# fig.tight_layout()\n",
    "# plt.show()"
   ]
  },
  {
   "cell_type": "code",
   "execution_count": null,
   "id": "b627d5f8-c594-4ef1-8812-2273cfc89ba2",
   "metadata": {},
   "outputs": [],
   "source": []
  },
  {
   "cell_type": "code",
   "execution_count": 137,
   "id": "a413a949-44ff-4d4e-bb07-b8d0557bfcdb",
   "metadata": {},
   "outputs": [],
   "source": [
    "from statsmodels.stats.outliers_influence import variance_inflation_factor"
   ]
  },
  {
   "cell_type": "code",
   "execution_count": 138,
   "id": "4a59bf19-2360-4c87-b75a-42bfc5c62589",
   "metadata": {},
   "outputs": [
    {
     "data": {
      "text/html": [
       "<div>\n",
       "<style scoped>\n",
       "    .dataframe tbody tr th:only-of-type {\n",
       "        vertical-align: middle;\n",
       "    }\n",
       "\n",
       "    .dataframe tbody tr th {\n",
       "        vertical-align: top;\n",
       "    }\n",
       "\n",
       "    .dataframe thead th {\n",
       "        text-align: right;\n",
       "    }\n",
       "</style>\n",
       "<table border=\"1\" class=\"dataframe\">\n",
       "  <thead>\n",
       "    <tr style=\"text-align: right;\">\n",
       "      <th></th>\n",
       "      <th>variables</th>\n",
       "      <th>VIF</th>\n",
       "    </tr>\n",
       "  </thead>\n",
       "  <tbody>\n",
       "    <tr>\n",
       "      <th>0</th>\n",
       "      <td>DEFAULT</td>\n",
       "      <td>1.105622</td>\n",
       "    </tr>\n",
       "    <tr>\n",
       "      <th>1</th>\n",
       "      <td>AGE</td>\n",
       "      <td>12.751756</td>\n",
       "    </tr>\n",
       "    <tr>\n",
       "      <th>2</th>\n",
       "      <td>ACADMOS</td>\n",
       "      <td>2.154474</td>\n",
       "    </tr>\n",
       "    <tr>\n",
       "      <th>3</th>\n",
       "      <td>ADEPCNT</td>\n",
       "      <td>4.446816</td>\n",
       "    </tr>\n",
       "    <tr>\n",
       "      <th>4</th>\n",
       "      <td>MAJORDRG</td>\n",
       "      <td>1.214795</td>\n",
       "    </tr>\n",
       "    <tr>\n",
       "      <th>5</th>\n",
       "      <td>MINORDRG</td>\n",
       "      <td>1.231864</td>\n",
       "    </tr>\n",
       "    <tr>\n",
       "      <th>6</th>\n",
       "      <td>OWNRENT</td>\n",
       "      <td>2.586586</td>\n",
       "    </tr>\n",
       "    <tr>\n",
       "      <th>7</th>\n",
       "      <td>INCOME</td>\n",
       "      <td>15.556605</td>\n",
       "    </tr>\n",
       "    <tr>\n",
       "      <th>8</th>\n",
       "      <td>SELFEMPL</td>\n",
       "      <td>1.092105</td>\n",
       "    </tr>\n",
       "    <tr>\n",
       "      <th>9</th>\n",
       "      <td>INCPER</td>\n",
       "      <td>9.722489</td>\n",
       "    </tr>\n",
       "    <tr>\n",
       "      <th>10</th>\n",
       "      <td>EXP_INC</td>\n",
       "      <td>9.721391</td>\n",
       "    </tr>\n",
       "    <tr>\n",
       "      <th>11</th>\n",
       "      <td>SPENDING</td>\n",
       "      <td>8.306801</td>\n",
       "    </tr>\n",
       "    <tr>\n",
       "      <th>12</th>\n",
       "      <td>LOGSPEND</td>\n",
       "      <td>15.448225</td>\n",
       "    </tr>\n",
       "  </tbody>\n",
       "</table>\n",
       "</div>"
      ],
      "text/plain": [
       "    variables        VIF\n",
       "0     DEFAULT   1.105622\n",
       "1         AGE  12.751756\n",
       "2     ACADMOS   2.154474\n",
       "3     ADEPCNT   4.446816\n",
       "4    MAJORDRG   1.214795\n",
       "5    MINORDRG   1.231864\n",
       "6     OWNRENT   2.586586\n",
       "7      INCOME  15.556605\n",
       "8    SELFEMPL   1.092105\n",
       "9      INCPER   9.722489\n",
       "10    EXP_INC   9.721391\n",
       "11   SPENDING   8.306801\n",
       "12  LOGSPEND   15.448225"
      ]
     },
     "execution_count": 138,
     "metadata": {},
     "output_type": "execute_result"
    }
   ],
   "source": [
    "#function to check multicolliearity\n",
    "def calc_vif(X):\n",
    "\n",
    "    # Calculating VIF\n",
    "    vif = pd.DataFrame()\n",
    "    vif[\"variables\"] = X.columns\n",
    "    vif[\"VIF\"] = [variance_inflation_factor(X.values, i) for i in range(X.shape[1])]\n",
    "\n",
    "    return(vif)\n",
    "\n",
    "X = df.select_dtypes(exclude='object').dropna() \n",
    "calc_vif(X)"
   ]
  },
  {
   "cell_type": "markdown",
   "id": "5d782ae1-a1d9-4026-95cb-29eae3c5f887",
   "metadata": {},
   "source": [
    "# build sample model"
   ]
  },
  {
   "cell_type": "code",
   "execution_count": 139,
   "id": "1474c69a-14bd-4625-9a9a-4f9f2a355efa",
   "metadata": {},
   "outputs": [],
   "source": [
    "from sklearn.model_selection import KFold, cross_val_score , train_test_split\n",
    "from sklearn.impute import SimpleImputer\n",
    "\n",
    "from sklearn.preprocessing import RobustScaler, PowerTransformer \n",
    "\n",
    "from sklearn.compose import ColumnTransformer \n",
    "from sklearn.pipeline import Pipeline, make_pipeline\n",
    "from sklearn.preprocessing import  OneHotEncoder\n",
    "\n",
    "from sklearn.model_selection import KFold, cross_val_score , train_test_split\n",
    "\n",
    "from sklearn.ensemble import RandomForestClassifier,StackingClassifier\n",
    " \n",
    "from sklearn.feature_selection import VarianceThreshold\n",
    "\n",
    "from sklearn.metrics import accuracy_score, recall_score, precision_score, f1_score\n",
    "from sklearn.datasets import make_classification"
   ]
  },
  {
   "cell_type": "code",
   "execution_count": 140,
   "id": "6f29f9bf-3640-4dae-ab9d-b900d33b0851",
   "metadata": {},
   "outputs": [
    {
     "name": "stdout",
     "output_type": "stream",
     "text": [
      "<class 'pandas.core.frame.DataFrame'>\n",
      "Int64Index: 10461 entries, 2 to 13442\n",
      "Data columns (total 13 columns):\n",
      " #   Column     Non-Null Count  Dtype  \n",
      "---  ------     --------------  -----  \n",
      " 0   DEFAULT    10461 non-null  int64  \n",
      " 1   AGE        10461 non-null  float64\n",
      " 2   ACADMOS    10461 non-null  int64  \n",
      " 3   ADEPCNT    10461 non-null  int64  \n",
      " 4   MAJORDRG   10461 non-null  int64  \n",
      " 5   MINORDRG   10461 non-null  int64  \n",
      " 6   OWNRENT    10461 non-null  int64  \n",
      " 7   INCOME     10461 non-null  float64\n",
      " 8   SELFEMPL   10461 non-null  int64  \n",
      " 9   INCPER     10461 non-null  float64\n",
      " 10  EXP_INC    10461 non-null  float64\n",
      " 11  SPENDING   10461 non-null  float64\n",
      " 12  LOGSPEND   10461 non-null  float64\n",
      "dtypes: float64(6), int64(7)\n",
      "memory usage: 1.1 MB\n"
     ]
    }
   ],
   "source": [
    "df.info()"
   ]
  },
  {
   "cell_type": "code",
   "execution_count": 141,
   "id": "fdeb6fca-6f33-42a4-aaff-e8c8de572923",
   "metadata": {},
   "outputs": [
    {
     "data": {
      "text/plain": [
       "Index(['DEFAULT', 'AGE', 'ACADMOS', 'ADEPCNT', 'MAJORDRG', 'MINORDRG',\n",
       "       'OWNRENT', 'INCOME', 'SELFEMPL', 'INCPER', 'EXP_INC', 'SPENDING',\n",
       "       'LOGSPEND '],\n",
       "      dtype='object')"
      ]
     },
     "execution_count": 141,
     "metadata": {},
     "output_type": "execute_result"
    }
   ],
   "source": [
    "df.columns"
   ]
  },
  {
   "cell_type": "code",
   "execution_count": 143,
   "id": "b452c78f-8a8b-47f1-8720-71cc90489268",
   "metadata": {},
   "outputs": [],
   "source": [
    "random_seed = 42\n",
    "target = 'DEFAULT'\n",
    "test_size = 0.3 \n",
    "label_encode =True\n",
    "#is_train=True\n",
    "catogerical_columns = ['AGE']\n",
    "\n",
    "median_list = ['ACADMOS']\n",
    "mean_list = []\n",
    "log_list = ['SPENDING', 'INCOME', 'AGE']\n",
    "TO_DROP = ['LOGSPEND ', 'INCPER', 'EXP_INC']\n",
    "\n",
    "df = df.drop(TO_DROP, axis=1)"
   ]
  },
  {
   "cell_type": "code",
   "execution_count": null,
   "id": "3c29a76c-078f-4741-990c-076e995effa1",
   "metadata": {},
   "outputs": [],
   "source": []
  },
  {
   "cell_type": "code",
   "execution_count": 144,
   "id": "ea24a5df-f8ec-45c3-bac7-4e3b943862e3",
   "metadata": {},
   "outputs": [],
   "source": [
    "def split_data_for_training(data, target):\n",
    "    X = data.drop(target, axis=1)\n",
    "    y = data[target]    \n",
    "       \n",
    "    X_train, X_test, y_train, y_test = train_test_split(X, y, stratify = y, # deal with data imbalance\n",
    "                                                        test_size=test_size, random_state=random_seed)\n",
    "    return X_train, X_test, y_train, y_test\n"
   ]
  },
  {
   "cell_type": "code",
   "execution_count": null,
   "id": "053d641c-10af-455f-a284-d46daf5de526",
   "metadata": {},
   "outputs": [],
   "source": []
  },
  {
   "cell_type": "code",
   "execution_count": 186,
   "id": "fd34473c-d4fc-40d8-9250-69494b30495f",
   "metadata": {},
   "outputs": [
    {
     "data": {
      "text/html": [
       "<div>\n",
       "<style scoped>\n",
       "    .dataframe tbody tr th:only-of-type {\n",
       "        vertical-align: middle;\n",
       "    }\n",
       "\n",
       "    .dataframe tbody tr th {\n",
       "        vertical-align: top;\n",
       "    }\n",
       "\n",
       "    .dataframe thead th {\n",
       "        text-align: right;\n",
       "    }\n",
       "</style>\n",
       "<table border=\"1\" class=\"dataframe\">\n",
       "  <thead>\n",
       "    <tr style=\"text-align: right;\">\n",
       "      <th></th>\n",
       "      <th>DEFAULT</th>\n",
       "      <th>AGE</th>\n",
       "      <th>ACADMOS</th>\n",
       "      <th>ADEPCNT</th>\n",
       "      <th>MAJORDRG</th>\n",
       "      <th>MINORDRG</th>\n",
       "      <th>OWNRENT</th>\n",
       "      <th>INCOME</th>\n",
       "      <th>SELFEMPL</th>\n",
       "      <th>SPENDING</th>\n",
       "    </tr>\n",
       "  </thead>\n",
       "  <tbody>\n",
       "    <tr>\n",
       "      <th>9438</th>\n",
       "      <td>1</td>\n",
       "      <td>41.916668</td>\n",
       "      <td>13</td>\n",
       "      <td>0</td>\n",
       "      <td>0</td>\n",
       "      <td>0</td>\n",
       "      <td>0</td>\n",
       "      <td>1500.000000</td>\n",
       "      <td>0</td>\n",
       "      <td>108.641300</td>\n",
       "    </tr>\n",
       "    <tr>\n",
       "      <th>7512</th>\n",
       "      <td>1</td>\n",
       "      <td>32.333332</td>\n",
       "      <td>18</td>\n",
       "      <td>1</td>\n",
       "      <td>0</td>\n",
       "      <td>0</td>\n",
       "      <td>0</td>\n",
       "      <td>2583.333333</td>\n",
       "      <td>0</td>\n",
       "      <td>296.560004</td>\n",
       "    </tr>\n",
       "    <tr>\n",
       "      <th>2410</th>\n",
       "      <td>0</td>\n",
       "      <td>29.583334</td>\n",
       "      <td>36</td>\n",
       "      <td>0</td>\n",
       "      <td>0</td>\n",
       "      <td>0</td>\n",
       "      <td>0</td>\n",
       "      <td>1833.333333</td>\n",
       "      <td>0</td>\n",
       "      <td>395.500841</td>\n",
       "    </tr>\n",
       "    <tr>\n",
       "      <th>5242</th>\n",
       "      <td>0</td>\n",
       "      <td>26.416666</td>\n",
       "      <td>49</td>\n",
       "      <td>1</td>\n",
       "      <td>0</td>\n",
       "      <td>0</td>\n",
       "      <td>1</td>\n",
       "      <td>2500.000000</td>\n",
       "      <td>0</td>\n",
       "      <td>217.195842</td>\n",
       "    </tr>\n",
       "    <tr>\n",
       "      <th>8342</th>\n",
       "      <td>1</td>\n",
       "      <td>31.250000</td>\n",
       "      <td>30</td>\n",
       "      <td>4</td>\n",
       "      <td>0</td>\n",
       "      <td>0</td>\n",
       "      <td>1</td>\n",
       "      <td>1011.000000</td>\n",
       "      <td>0</td>\n",
       "      <td>9.547048</td>\n",
       "    </tr>\n",
       "  </tbody>\n",
       "</table>\n",
       "</div>"
      ],
      "text/plain": [
       "      DEFAULT        AGE  ACADMOS  ADEPCNT  MAJORDRG  MINORDRG  OWNRENT  \\\n",
       "9438        1  41.916668       13        0         0         0        0   \n",
       "7512        1  32.333332       18        1         0         0        0   \n",
       "2410        0  29.583334       36        0         0         0        0   \n",
       "5242        0  26.416666       49        1         0         0        1   \n",
       "8342        1  31.250000       30        4         0         0        1   \n",
       "\n",
       "           INCOME  SELFEMPL    SPENDING  \n",
       "9438  1500.000000         0  108.641300  \n",
       "7512  2583.333333         0  296.560004  \n",
       "2410  1833.333333         0  395.500841  \n",
       "5242  2500.000000         0  217.195842  \n",
       "8342  1011.000000         0    9.547048  "
      ]
     },
     "execution_count": 186,
     "metadata": {},
     "output_type": "execute_result"
    }
   ],
   "source": [
    "# undersampling\n",
    "df = df.sample(frac=1)\n",
    "\n",
    "# amount of fraud classes 492 rows.\n",
    "fraud_df = df.loc[df['DEFAULT'] == 1]\n",
    "non_fraud_df = df.loc[df['DEFAULT'] == 0][:fraud_df.shape[0]]\n",
    "\n",
    "normal_distributed_df = pd.concat([fraud_df, non_fraud_df])\n",
    "\n",
    "# Shuffle dataframe rows\n",
    "new_df = normal_distributed_df.sample(frac=1, random_state=42)\n",
    "\n",
    "new_df.head()"
   ]
  },
  {
   "cell_type": "code",
   "execution_count": 185,
   "id": "bd7018c1-dd22-4841-8251-567ee753a89f",
   "metadata": {},
   "outputs": [
    {
     "data": {
      "text/html": [
       "<div>\n",
       "<style scoped>\n",
       "    .dataframe tbody tr th:only-of-type {\n",
       "        vertical-align: middle;\n",
       "    }\n",
       "\n",
       "    .dataframe tbody tr th {\n",
       "        vertical-align: top;\n",
       "    }\n",
       "\n",
       "    .dataframe thead th {\n",
       "        text-align: right;\n",
       "    }\n",
       "</style>\n",
       "<table border=\"1\" class=\"dataframe\">\n",
       "  <thead>\n",
       "    <tr style=\"text-align: right;\">\n",
       "      <th></th>\n",
       "      <th>variables</th>\n",
       "      <th>VIF</th>\n",
       "    </tr>\n",
       "  </thead>\n",
       "  <tbody>\n",
       "    <tr>\n",
       "      <th>0</th>\n",
       "      <td>DEFAULT</td>\n",
       "      <td>1.094080</td>\n",
       "    </tr>\n",
       "    <tr>\n",
       "      <th>1</th>\n",
       "      <td>AGE</td>\n",
       "      <td>7.323069</td>\n",
       "    </tr>\n",
       "    <tr>\n",
       "      <th>2</th>\n",
       "      <td>ACADMOS</td>\n",
       "      <td>2.131476</td>\n",
       "    </tr>\n",
       "    <tr>\n",
       "      <th>3</th>\n",
       "      <td>ADEPCNT</td>\n",
       "      <td>1.945815</td>\n",
       "    </tr>\n",
       "    <tr>\n",
       "      <th>4</th>\n",
       "      <td>MAJORDRG</td>\n",
       "      <td>1.211021</td>\n",
       "    </tr>\n",
       "    <tr>\n",
       "      <th>5</th>\n",
       "      <td>MINORDRG</td>\n",
       "      <td>1.227819</td>\n",
       "    </tr>\n",
       "    <tr>\n",
       "      <th>6</th>\n",
       "      <td>OWNRENT</td>\n",
       "      <td>2.542812</td>\n",
       "    </tr>\n",
       "    <tr>\n",
       "      <th>7</th>\n",
       "      <td>INCOME</td>\n",
       "      <td>6.524489</td>\n",
       "    </tr>\n",
       "    <tr>\n",
       "      <th>8</th>\n",
       "      <td>SELFEMPL</td>\n",
       "      <td>1.082509</td>\n",
       "    </tr>\n",
       "    <tr>\n",
       "      <th>9</th>\n",
       "      <td>SPENDING</td>\n",
       "      <td>1.753757</td>\n",
       "    </tr>\n",
       "  </tbody>\n",
       "</table>\n",
       "</div>"
      ],
      "text/plain": [
       "  variables       VIF\n",
       "0   DEFAULT  1.094080\n",
       "1       AGE  7.323069\n",
       "2   ACADMOS  2.131476\n",
       "3   ADEPCNT  1.945815\n",
       "4  MAJORDRG  1.211021\n",
       "5  MINORDRG  1.227819\n",
       "6   OWNRENT  2.542812\n",
       "7    INCOME  6.524489\n",
       "8  SELFEMPL  1.082509\n",
       "9  SPENDING  1.753757"
      ]
     },
     "execution_count": 185,
     "metadata": {},
     "output_type": "execute_result"
    }
   ],
   "source": [
    "X = df.select_dtypes(exclude='object').dropna() \n",
    "calc_vif(X)"
   ]
  },
  {
   "cell_type": "markdown",
   "id": "a649f57c-9ace-4eea-a192-61109ac3ba1a",
   "metadata": {},
   "source": [
    "# oversampling"
   ]
  },
  {
   "cell_type": "code",
   "execution_count": 190,
   "id": "2b8272df-3282-4b11-aa7b-196fe96c7557",
   "metadata": {},
   "outputs": [],
   "source": [
    "import imblearn"
   ]
  },
  {
   "cell_type": "code",
   "execution_count": 329,
   "id": "d9831f85-9582-434c-b3f6-af064d448948",
   "metadata": {},
   "outputs": [],
   "source": [
    "over = imblearn.over_sampling.SMOTE(sampling_strategy='minority')\n",
    "under = imblearn.under_sampling.RandomUnderSampler(sampling_strategy='majority')\n",
    "steps = [('o', over), ('u', under)]\n",
    "pipeline = Pipeline(steps=steps)"
   ]
  },
  {
   "cell_type": "code",
   "execution_count": 330,
   "id": "7caf229b-11ac-461e-bf85-890b3ab5ff04",
   "metadata": {},
   "outputs": [
    {
     "data": {
      "text/plain": [
       "((7322, 9), (3139, 9))"
      ]
     },
     "execution_count": 330,
     "metadata": {},
     "output_type": "execute_result"
    }
   ],
   "source": [
    "X_train, X_test, y_train, y_test = split_data_for_training(df, target)\n",
    "X_train.shape, X_test.shape"
   ]
  },
  {
   "cell_type": "code",
   "execution_count": 331,
   "id": "aa103414-83a1-4b92-b2b2-ec5403f413d7",
   "metadata": {},
   "outputs": [],
   "source": [
    "X_train, y_train = over.fit_resample(X_train, y_train)"
   ]
  },
  {
   "cell_type": "code",
   "execution_count": 332,
   "id": "23d2cd1b-733f-4b29-a46e-2c32024a21dc",
   "metadata": {},
   "outputs": [
    {
     "data": {
      "text/plain": [
       "((13254, 9), (13254,))"
      ]
     },
     "execution_count": 332,
     "metadata": {},
     "output_type": "execute_result"
    }
   ],
   "source": [
    "X_train.shape, y_train.shape"
   ]
  },
  {
   "cell_type": "code",
   "execution_count": 333,
   "id": "25fa5c57-fb2c-4fb0-9c2a-3670881a7639",
   "metadata": {},
   "outputs": [
    {
     "data": {
      "text/plain": [
       "0    6627\n",
       "1    6627\n",
       "Name: DEFAULT, dtype: int64"
      ]
     },
     "execution_count": 333,
     "metadata": {},
     "output_type": "execute_result"
    }
   ],
   "source": [
    "y_train.value_counts()"
   ]
  },
  {
   "cell_type": "code",
   "execution_count": null,
   "id": "7d7e0de0-39c2-4273-803d-992de12b076c",
   "metadata": {},
   "outputs": [],
   "source": []
  },
  {
   "cell_type": "markdown",
   "id": "fe1ba42d-cfa5-4f78-a8ef-8a24fbfbf1b7",
   "metadata": {},
   "source": [
    "# Subsample"
   ]
  },
  {
   "cell_type": "code",
   "execution_count": 320,
   "id": "20a59276-993b-4a46-af5c-88c3c49b0ddd",
   "metadata": {},
   "outputs": [
    {
     "data": {
      "text/html": [
       "<div>\n",
       "<style scoped>\n",
       "    .dataframe tbody tr th:only-of-type {\n",
       "        vertical-align: middle;\n",
       "    }\n",
       "\n",
       "    .dataframe tbody tr th {\n",
       "        vertical-align: top;\n",
       "    }\n",
       "\n",
       "    .dataframe thead th {\n",
       "        text-align: right;\n",
       "    }\n",
       "</style>\n",
       "<table border=\"1\" class=\"dataframe\">\n",
       "  <thead>\n",
       "    <tr style=\"text-align: right;\">\n",
       "      <th></th>\n",
       "      <th>AGE</th>\n",
       "      <th>ACADMOS</th>\n",
       "      <th>ADEPCNT</th>\n",
       "      <th>MAJORDRG</th>\n",
       "      <th>MINORDRG</th>\n",
       "      <th>OWNRENT</th>\n",
       "      <th>INCOME</th>\n",
       "      <th>SELFEMPL</th>\n",
       "      <th>SPENDING</th>\n",
       "    </tr>\n",
       "  </thead>\n",
       "  <tbody>\n",
       "    <tr>\n",
       "      <th>AGE</th>\n",
       "      <td>1.000000</td>\n",
       "      <td>0.404836</td>\n",
       "      <td>0.269935</td>\n",
       "      <td>0.121007</td>\n",
       "      <td>0.106058</td>\n",
       "      <td>0.381714</td>\n",
       "      <td>0.335155</td>\n",
       "      <td>0.118829</td>\n",
       "      <td>0.034215</td>\n",
       "    </tr>\n",
       "    <tr>\n",
       "      <th>ACADMOS</th>\n",
       "      <td>0.404836</td>\n",
       "      <td>1.000000</td>\n",
       "      <td>0.103446</td>\n",
       "      <td>0.111113</td>\n",
       "      <td>0.083132</td>\n",
       "      <td>0.255849</td>\n",
       "      <td>0.104988</td>\n",
       "      <td>0.052591</td>\n",
       "      <td>-0.014488</td>\n",
       "    </tr>\n",
       "    <tr>\n",
       "      <th>ADEPCNT</th>\n",
       "      <td>0.269935</td>\n",
       "      <td>0.103446</td>\n",
       "      <td>1.000000</td>\n",
       "      <td>0.070723</td>\n",
       "      <td>0.078001</td>\n",
       "      <td>0.331863</td>\n",
       "      <td>0.326526</td>\n",
       "      <td>0.070645</td>\n",
       "      <td>0.046003</td>\n",
       "    </tr>\n",
       "    <tr>\n",
       "      <th>MAJORDRG</th>\n",
       "      <td>0.121007</td>\n",
       "      <td>0.111113</td>\n",
       "      <td>0.070723</td>\n",
       "      <td>1.000000</td>\n",
       "      <td>0.272360</td>\n",
       "      <td>0.080595</td>\n",
       "      <td>0.144941</td>\n",
       "      <td>0.031531</td>\n",
       "      <td>0.104284</td>\n",
       "    </tr>\n",
       "    <tr>\n",
       "      <th>MINORDRG</th>\n",
       "      <td>0.106058</td>\n",
       "      <td>0.083132</td>\n",
       "      <td>0.078001</td>\n",
       "      <td>0.272360</td>\n",
       "      <td>1.000000</td>\n",
       "      <td>0.111351</td>\n",
       "      <td>0.090387</td>\n",
       "      <td>0.017793</td>\n",
       "      <td>0.050881</td>\n",
       "    </tr>\n",
       "    <tr>\n",
       "      <th>OWNRENT</th>\n",
       "      <td>0.381714</td>\n",
       "      <td>0.255849</td>\n",
       "      <td>0.331863</td>\n",
       "      <td>0.080595</td>\n",
       "      <td>0.111351</td>\n",
       "      <td>1.000000</td>\n",
       "      <td>0.347811</td>\n",
       "      <td>0.109913</td>\n",
       "      <td>0.042605</td>\n",
       "    </tr>\n",
       "    <tr>\n",
       "      <th>INCOME</th>\n",
       "      <td>0.335155</td>\n",
       "      <td>0.104988</td>\n",
       "      <td>0.326526</td>\n",
       "      <td>0.144941</td>\n",
       "      <td>0.090387</td>\n",
       "      <td>0.347811</td>\n",
       "      <td>1.000000</td>\n",
       "      <td>0.156710</td>\n",
       "      <td>0.292111</td>\n",
       "    </tr>\n",
       "    <tr>\n",
       "      <th>SELFEMPL</th>\n",
       "      <td>0.118829</td>\n",
       "      <td>0.052591</td>\n",
       "      <td>0.070645</td>\n",
       "      <td>0.031531</td>\n",
       "      <td>0.017793</td>\n",
       "      <td>0.109913</td>\n",
       "      <td>0.156710</td>\n",
       "      <td>1.000000</td>\n",
       "      <td>0.014463</td>\n",
       "    </tr>\n",
       "    <tr>\n",
       "      <th>SPENDING</th>\n",
       "      <td>0.034215</td>\n",
       "      <td>-0.014488</td>\n",
       "      <td>0.046003</td>\n",
       "      <td>0.104284</td>\n",
       "      <td>0.050881</td>\n",
       "      <td>0.042605</td>\n",
       "      <td>0.292111</td>\n",
       "      <td>0.014463</td>\n",
       "      <td>1.000000</td>\n",
       "    </tr>\n",
       "  </tbody>\n",
       "</table>\n",
       "</div>"
      ],
      "text/plain": [
       "               AGE   ACADMOS   ADEPCNT  MAJORDRG  MINORDRG   OWNRENT  \\\n",
       "AGE       1.000000  0.404836  0.269935  0.121007  0.106058  0.381714   \n",
       "ACADMOS   0.404836  1.000000  0.103446  0.111113  0.083132  0.255849   \n",
       "ADEPCNT   0.269935  0.103446  1.000000  0.070723  0.078001  0.331863   \n",
       "MAJORDRG  0.121007  0.111113  0.070723  1.000000  0.272360  0.080595   \n",
       "MINORDRG  0.106058  0.083132  0.078001  0.272360  1.000000  0.111351   \n",
       "OWNRENT   0.381714  0.255849  0.331863  0.080595  0.111351  1.000000   \n",
       "INCOME    0.335155  0.104988  0.326526  0.144941  0.090387  0.347811   \n",
       "SELFEMPL  0.118829  0.052591  0.070645  0.031531  0.017793  0.109913   \n",
       "SPENDING  0.034215 -0.014488  0.046003  0.104284  0.050881  0.042605   \n",
       "\n",
       "            INCOME  SELFEMPL  SPENDING  \n",
       "AGE       0.335155  0.118829  0.034215  \n",
       "ACADMOS   0.104988  0.052591 -0.014488  \n",
       "ADEPCNT   0.326526  0.070645  0.046003  \n",
       "MAJORDRG  0.144941  0.031531  0.104284  \n",
       "MINORDRG  0.090387  0.017793  0.050881  \n",
       "OWNRENT   0.347811  0.109913  0.042605  \n",
       "INCOME    1.000000  0.156710  0.292111  \n",
       "SELFEMPL  0.156710  1.000000  0.014463  \n",
       "SPENDING  0.292111  0.014463  1.000000  "
      ]
     },
     "execution_count": 320,
     "metadata": {},
     "output_type": "execute_result"
    }
   ],
   "source": [
    "X_train.corr()"
   ]
  },
  {
   "cell_type": "code",
   "execution_count": 321,
   "id": "20b840e8-28e0-4ef1-95e8-a46b65d633cd",
   "metadata": {},
   "outputs": [],
   "source": [
    "# do we really have missing values?\n"
   ]
  },
  {
   "cell_type": "code",
   "execution_count": 322,
   "id": "da6b5894-c719-4572-966d-fa8563c5e23f",
   "metadata": {},
   "outputs": [],
   "source": [
    "# Imputing nulls and poer transform for numeric columns\n",
    "num_imputer = SimpleImputer(strategy='median')\n",
    "power_transformer = PowerTransformer()\n",
    " \n",
    "# Imputing nulls through the encoding for categorical columns\n",
    "encoder = OneHotEncoder(handle_unknown=\"ignore\")\n",
    "\n",
    "# Defining different transformers for numeric and categorical columns\n",
    "num_transformer = make_pipeline(num_imputer)\n",
    "pow_transformer = make_pipeline(num_transformer,power_transformer)\n",
    "cat_transformer = make_pipeline(encoder)\n",
    "\n",
    "# getting together our scaler and encoder with preprocessor\n",
    "preprocessor = ColumnTransformer(\n",
    "      transformers=[('num', num_transformer, median_list),\n",
    "                    ('power',pow_transformer,log_list),\n",
    "                    ('cat', encoder, catogerical_columns)])"
   ]
  },
  {
   "cell_type": "code",
   "execution_count": 323,
   "id": "f9c0c0aa-f22e-4bf1-a741-9575161043ed",
   "metadata": {},
   "outputs": [
    {
     "data": {
      "text/html": [
       "<style>#sk-container-id-28 {color: black;background-color: white;}#sk-container-id-28 pre{padding: 0;}#sk-container-id-28 div.sk-toggleable {background-color: white;}#sk-container-id-28 label.sk-toggleable__label {cursor: pointer;display: block;width: 100%;margin-bottom: 0;padding: 0.3em;box-sizing: border-box;text-align: center;}#sk-container-id-28 label.sk-toggleable__label-arrow:before {content: \"▸\";float: left;margin-right: 0.25em;color: #696969;}#sk-container-id-28 label.sk-toggleable__label-arrow:hover:before {color: black;}#sk-container-id-28 div.sk-estimator:hover label.sk-toggleable__label-arrow:before {color: black;}#sk-container-id-28 div.sk-toggleable__content {max-height: 0;max-width: 0;overflow: hidden;text-align: left;background-color: #f0f8ff;}#sk-container-id-28 div.sk-toggleable__content pre {margin: 0.2em;color: black;border-radius: 0.25em;background-color: #f0f8ff;}#sk-container-id-28 input.sk-toggleable__control:checked~div.sk-toggleable__content {max-height: 200px;max-width: 100%;overflow: auto;}#sk-container-id-28 input.sk-toggleable__control:checked~label.sk-toggleable__label-arrow:before {content: \"▾\";}#sk-container-id-28 div.sk-estimator input.sk-toggleable__control:checked~label.sk-toggleable__label {background-color: #d4ebff;}#sk-container-id-28 div.sk-label input.sk-toggleable__control:checked~label.sk-toggleable__label {background-color: #d4ebff;}#sk-container-id-28 input.sk-hidden--visually {border: 0;clip: rect(1px 1px 1px 1px);clip: rect(1px, 1px, 1px, 1px);height: 1px;margin: -1px;overflow: hidden;padding: 0;position: absolute;width: 1px;}#sk-container-id-28 div.sk-estimator {font-family: monospace;background-color: #f0f8ff;border: 1px dotted black;border-radius: 0.25em;box-sizing: border-box;margin-bottom: 0.5em;}#sk-container-id-28 div.sk-estimator:hover {background-color: #d4ebff;}#sk-container-id-28 div.sk-parallel-item::after {content: \"\";width: 100%;border-bottom: 1px solid gray;flex-grow: 1;}#sk-container-id-28 div.sk-label:hover label.sk-toggleable__label {background-color: #d4ebff;}#sk-container-id-28 div.sk-serial::before {content: \"\";position: absolute;border-left: 1px solid gray;box-sizing: border-box;top: 0;bottom: 0;left: 50%;z-index: 0;}#sk-container-id-28 div.sk-serial {display: flex;flex-direction: column;align-items: center;background-color: white;padding-right: 0.2em;padding-left: 0.2em;position: relative;}#sk-container-id-28 div.sk-item {position: relative;z-index: 1;}#sk-container-id-28 div.sk-parallel {display: flex;align-items: stretch;justify-content: center;background-color: white;position: relative;}#sk-container-id-28 div.sk-item::before, #sk-container-id-28 div.sk-parallel-item::before {content: \"\";position: absolute;border-left: 1px solid gray;box-sizing: border-box;top: 0;bottom: 0;left: 50%;z-index: -1;}#sk-container-id-28 div.sk-parallel-item {display: flex;flex-direction: column;z-index: 1;position: relative;background-color: white;}#sk-container-id-28 div.sk-parallel-item:first-child::after {align-self: flex-end;width: 50%;}#sk-container-id-28 div.sk-parallel-item:last-child::after {align-self: flex-start;width: 50%;}#sk-container-id-28 div.sk-parallel-item:only-child::after {width: 0;}#sk-container-id-28 div.sk-dashed-wrapped {border: 1px dashed gray;margin: 0 0.4em 0.5em 0.4em;box-sizing: border-box;padding-bottom: 0.4em;background-color: white;}#sk-container-id-28 div.sk-label label {font-family: monospace;font-weight: bold;display: inline-block;line-height: 1.2em;}#sk-container-id-28 div.sk-label-container {text-align: center;}#sk-container-id-28 div.sk-container {/* jupyter's `normalize.less` sets `[hidden] { display: none; }` but bootstrap.min.css set `[hidden] { display: none !important; }` so we also need the `!important` here to be able to override the default hidden behavior on the sphinx rendered scikit-learn.org. See: https://github.com/scikit-learn/scikit-learn/issues/21755 */display: inline-block !important;position: relative;}#sk-container-id-28 div.sk-text-repr-fallback {display: none;}</style><div id=\"sk-container-id-28\" class=\"sk-top-container\"><div class=\"sk-text-repr-fallback\"><pre>ColumnTransformer(transformers=[(&#x27;num&#x27;,\n",
       "                                 Pipeline(steps=[(&#x27;simpleimputer&#x27;,\n",
       "                                                  SimpleImputer(strategy=&#x27;median&#x27;))]),\n",
       "                                 [&#x27;ACADMOS&#x27;]),\n",
       "                                (&#x27;power&#x27;,\n",
       "                                 Pipeline(steps=[(&#x27;pipeline&#x27;,\n",
       "                                                  Pipeline(steps=[(&#x27;simpleimputer&#x27;,\n",
       "                                                                   SimpleImputer(strategy=&#x27;median&#x27;))])),\n",
       "                                                 (&#x27;powertransformer&#x27;,\n",
       "                                                  PowerTransformer())]),\n",
       "                                 [&#x27;SPENDING&#x27;, &#x27;INCOME&#x27;, &#x27;AGE&#x27;]),\n",
       "                                (&#x27;cat&#x27;, OneHotEncoder(handle_unknown=&#x27;ignore&#x27;),\n",
       "                                 [&#x27;AGE&#x27;])])</pre><b>In a Jupyter environment, please rerun this cell to show the HTML representation or trust the notebook. <br />On GitHub, the HTML representation is unable to render, please try loading this page with nbviewer.org.</b></div><div class=\"sk-container\" hidden><div class=\"sk-item sk-dashed-wrapped\"><div class=\"sk-label-container\"><div class=\"sk-label sk-toggleable\"><input class=\"sk-toggleable__control sk-hidden--visually\" id=\"sk-estimator-id-280\" type=\"checkbox\" ><label for=\"sk-estimator-id-280\" class=\"sk-toggleable__label sk-toggleable__label-arrow\">ColumnTransformer</label><div class=\"sk-toggleable__content\"><pre>ColumnTransformer(transformers=[(&#x27;num&#x27;,\n",
       "                                 Pipeline(steps=[(&#x27;simpleimputer&#x27;,\n",
       "                                                  SimpleImputer(strategy=&#x27;median&#x27;))]),\n",
       "                                 [&#x27;ACADMOS&#x27;]),\n",
       "                                (&#x27;power&#x27;,\n",
       "                                 Pipeline(steps=[(&#x27;pipeline&#x27;,\n",
       "                                                  Pipeline(steps=[(&#x27;simpleimputer&#x27;,\n",
       "                                                                   SimpleImputer(strategy=&#x27;median&#x27;))])),\n",
       "                                                 (&#x27;powertransformer&#x27;,\n",
       "                                                  PowerTransformer())]),\n",
       "                                 [&#x27;SPENDING&#x27;, &#x27;INCOME&#x27;, &#x27;AGE&#x27;]),\n",
       "                                (&#x27;cat&#x27;, OneHotEncoder(handle_unknown=&#x27;ignore&#x27;),\n",
       "                                 [&#x27;AGE&#x27;])])</pre></div></div></div><div class=\"sk-parallel\"><div class=\"sk-parallel-item\"><div class=\"sk-item\"><div class=\"sk-label-container\"><div class=\"sk-label sk-toggleable\"><input class=\"sk-toggleable__control sk-hidden--visually\" id=\"sk-estimator-id-281\" type=\"checkbox\" ><label for=\"sk-estimator-id-281\" class=\"sk-toggleable__label sk-toggleable__label-arrow\">num</label><div class=\"sk-toggleable__content\"><pre>[&#x27;ACADMOS&#x27;]</pre></div></div></div><div class=\"sk-serial\"><div class=\"sk-item\"><div class=\"sk-serial\"><div class=\"sk-item\"><div class=\"sk-estimator sk-toggleable\"><input class=\"sk-toggleable__control sk-hidden--visually\" id=\"sk-estimator-id-282\" type=\"checkbox\" ><label for=\"sk-estimator-id-282\" class=\"sk-toggleable__label sk-toggleable__label-arrow\">SimpleImputer</label><div class=\"sk-toggleable__content\"><pre>SimpleImputer(strategy=&#x27;median&#x27;)</pre></div></div></div></div></div></div></div></div><div class=\"sk-parallel-item\"><div class=\"sk-item\"><div class=\"sk-label-container\"><div class=\"sk-label sk-toggleable\"><input class=\"sk-toggleable__control sk-hidden--visually\" id=\"sk-estimator-id-283\" type=\"checkbox\" ><label for=\"sk-estimator-id-283\" class=\"sk-toggleable__label sk-toggleable__label-arrow\">power</label><div class=\"sk-toggleable__content\"><pre>[&#x27;SPENDING&#x27;, &#x27;INCOME&#x27;, &#x27;AGE&#x27;]</pre></div></div></div><div class=\"sk-serial\"><div class=\"sk-item\"><div class=\"sk-serial\"><div class=\"sk-item\"><div class=\"sk-label-container\"><div class=\"sk-label sk-toggleable\"><input class=\"sk-toggleable__control sk-hidden--visually\" id=\"sk-estimator-id-284\" type=\"checkbox\" ><label for=\"sk-estimator-id-284\" class=\"sk-toggleable__label sk-toggleable__label-arrow\">pipeline: Pipeline</label><div class=\"sk-toggleable__content\"><pre>Pipeline(steps=[(&#x27;simpleimputer&#x27;, SimpleImputer(strategy=&#x27;median&#x27;))])</pre></div></div></div><div class=\"sk-serial\"><div class=\"sk-item\"><div class=\"sk-estimator sk-toggleable\"><input class=\"sk-toggleable__control sk-hidden--visually\" id=\"sk-estimator-id-285\" type=\"checkbox\" ><label for=\"sk-estimator-id-285\" class=\"sk-toggleable__label sk-toggleable__label-arrow\">SimpleImputer</label><div class=\"sk-toggleable__content\"><pre>SimpleImputer(strategy=&#x27;median&#x27;)</pre></div></div></div></div></div><div class=\"sk-item\"><div class=\"sk-estimator sk-toggleable\"><input class=\"sk-toggleable__control sk-hidden--visually\" id=\"sk-estimator-id-286\" type=\"checkbox\" ><label for=\"sk-estimator-id-286\" class=\"sk-toggleable__label sk-toggleable__label-arrow\">PowerTransformer</label><div class=\"sk-toggleable__content\"><pre>PowerTransformer()</pre></div></div></div></div></div></div></div></div><div class=\"sk-parallel-item\"><div class=\"sk-item\"><div class=\"sk-label-container\"><div class=\"sk-label sk-toggleable\"><input class=\"sk-toggleable__control sk-hidden--visually\" id=\"sk-estimator-id-287\" type=\"checkbox\" ><label for=\"sk-estimator-id-287\" class=\"sk-toggleable__label sk-toggleable__label-arrow\">cat</label><div class=\"sk-toggleable__content\"><pre>[&#x27;AGE&#x27;]</pre></div></div></div><div class=\"sk-serial\"><div class=\"sk-item\"><div class=\"sk-estimator sk-toggleable\"><input class=\"sk-toggleable__control sk-hidden--visually\" id=\"sk-estimator-id-288\" type=\"checkbox\" ><label for=\"sk-estimator-id-288\" class=\"sk-toggleable__label sk-toggleable__label-arrow\">OneHotEncoder</label><div class=\"sk-toggleable__content\"><pre>OneHotEncoder(handle_unknown=&#x27;ignore&#x27;)</pre></div></div></div></div></div></div></div></div></div></div>"
      ],
      "text/plain": [
       "ColumnTransformer(transformers=[('num',\n",
       "                                 Pipeline(steps=[('simpleimputer',\n",
       "                                                  SimpleImputer(strategy='median'))]),\n",
       "                                 ['ACADMOS']),\n",
       "                                ('power',\n",
       "                                 Pipeline(steps=[('pipeline',\n",
       "                                                  Pipeline(steps=[('simpleimputer',\n",
       "                                                                   SimpleImputer(strategy='median'))])),\n",
       "                                                 ('powertransformer',\n",
       "                                                  PowerTransformer())]),\n",
       "                                 ['SPENDING', 'INCOME', 'AGE']),\n",
       "                                ('cat', OneHotEncoder(handle_unknown='ignore'),\n",
       "                                 ['AGE'])])"
      ]
     },
     "execution_count": 323,
     "metadata": {},
     "output_type": "execute_result"
    }
   ],
   "source": [
    "preprocessor"
   ]
  },
  {
   "cell_type": "markdown",
   "id": "b3fe177e-5bf4-4c8b-b37c-b5d4d9abea7e",
   "metadata": {},
   "source": [
    "# Random forest\n",
    "\n"
   ]
  },
  {
   "cell_type": "code",
   "execution_count": 324,
   "id": "d79cb847-35cc-4b69-9a30-0080ccbfff11",
   "metadata": {},
   "outputs": [
    {
     "name": "stderr",
     "output_type": "stream",
     "text": [
      "\u001b[32m[I 2023-01-15 22:36:01,407]\u001b[0m A new study created in memory with name: no-name-d5e43848-e677-4486-9250-a6be35ec9eb4\u001b[0m\n",
      "\u001b[32m[I 2023-01-15 22:36:01,753]\u001b[0m Trial 0 finished with value: 0.8397578846766486 and parameters: {'n_estimators': 180, 'max_depth': 16, 'min_samples_split': 9, 'min_samples_leaf': 4}. Best is trial 0 with value: 0.8397578846766486.\u001b[0m\n",
      "\u001b[32m[I 2023-01-15 22:36:02,246]\u001b[0m Trial 1 finished with value: 0.8276521185090793 and parameters: {'n_estimators': 342, 'max_depth': 7, 'min_samples_split': 2, 'min_samples_leaf': 3}. Best is trial 0 with value: 0.8397578846766486.\u001b[0m\n",
      "\u001b[32m[I 2023-01-15 22:36:02,581]\u001b[0m Trial 2 finished with value: 0.8429436126154827 and parameters: {'n_estimators': 181, 'max_depth': 18, 'min_samples_split': 5, 'min_samples_leaf': 3}. Best is trial 2 with value: 0.8429436126154827.\u001b[0m\n"
     ]
    }
   ],
   "source": [
    "## Random Forest Classifier tuning using Optuna¶\n",
    "#defining the hyperparatmeter tuning function using optuna\n",
    "def rf_objective(trial):\n",
    "    _n_estimators = trial.suggest_int(\"n_estimators\", 50, 400)\n",
    "    _max_depth = trial.suggest_int(\"max_depth\", 5, 20)\n",
    "    _min_samp_split = trial.suggest_int(\"min_samples_split\", 2, 10)\n",
    "    _min_samples_leaf = trial.suggest_int(\"min_samples_leaf\", 2, 10)\n",
    "    #_max_features = trial.suggest_int(\"max_features\", 10, 50)\n",
    "\n",
    "    clf = RandomForestClassifier(\n",
    "        max_depth=_max_depth,\n",
    "        min_samples_split=_min_samp_split,\n",
    "        min_samples_leaf=_min_samples_leaf,\n",
    "        #max_features=_max_features,\n",
    "        n_estimators=_n_estimators,\n",
    "        n_jobs=-1,\n",
    "        random_state=random_seed\n",
    "        )\n",
    "    clf.fit(X_train, y_train)\n",
    "    return clf.score(X_test, y_test)\n",
    "\n",
    "\n",
    "study = optuna.create_study(direction=\"maximize\")\n",
    "study.optimize(rf_objective, n_trials=3)\n",
    "\n",
    "#choosing the best parameters\n",
    "random_forest_parameters=study.best_params"
   ]
  },
  {
   "cell_type": "code",
   "execution_count": 325,
   "id": "1728e56b-7689-4469-8641-c2f5fd39c0b1",
   "metadata": {},
   "outputs": [],
   "source": [
    "# random forest paraeters tuned using optuna. Code down below\n",
    "random_forest_parameters = {'n_estimators': 55, 'max_depth': 15, 'min_samples_split': 3, 'min_samples_leaf': 3}\n",
    "\n",
    "\n",
    "# choosing model\n",
    "model_name = RandomForestClassifier(n_jobs=-1, random_state=random_seed, **random_forest_parameters)\n",
    "\n",
    "# giving all values to pipeline\n",
    "rf_pipe = make_pipeline(preprocessor,model_name)"
   ]
  },
  {
   "cell_type": "code",
   "execution_count": 326,
   "id": "429bb5b5-44ae-45fa-8954-73e6349f6860",
   "metadata": {},
   "outputs": [
    {
     "data": {
      "text/html": [
       "<style>#sk-container-id-29 {color: black;background-color: white;}#sk-container-id-29 pre{padding: 0;}#sk-container-id-29 div.sk-toggleable {background-color: white;}#sk-container-id-29 label.sk-toggleable__label {cursor: pointer;display: block;width: 100%;margin-bottom: 0;padding: 0.3em;box-sizing: border-box;text-align: center;}#sk-container-id-29 label.sk-toggleable__label-arrow:before {content: \"▸\";float: left;margin-right: 0.25em;color: #696969;}#sk-container-id-29 label.sk-toggleable__label-arrow:hover:before {color: black;}#sk-container-id-29 div.sk-estimator:hover label.sk-toggleable__label-arrow:before {color: black;}#sk-container-id-29 div.sk-toggleable__content {max-height: 0;max-width: 0;overflow: hidden;text-align: left;background-color: #f0f8ff;}#sk-container-id-29 div.sk-toggleable__content pre {margin: 0.2em;color: black;border-radius: 0.25em;background-color: #f0f8ff;}#sk-container-id-29 input.sk-toggleable__control:checked~div.sk-toggleable__content {max-height: 200px;max-width: 100%;overflow: auto;}#sk-container-id-29 input.sk-toggleable__control:checked~label.sk-toggleable__label-arrow:before {content: \"▾\";}#sk-container-id-29 div.sk-estimator input.sk-toggleable__control:checked~label.sk-toggleable__label {background-color: #d4ebff;}#sk-container-id-29 div.sk-label input.sk-toggleable__control:checked~label.sk-toggleable__label {background-color: #d4ebff;}#sk-container-id-29 input.sk-hidden--visually {border: 0;clip: rect(1px 1px 1px 1px);clip: rect(1px, 1px, 1px, 1px);height: 1px;margin: -1px;overflow: hidden;padding: 0;position: absolute;width: 1px;}#sk-container-id-29 div.sk-estimator {font-family: monospace;background-color: #f0f8ff;border: 1px dotted black;border-radius: 0.25em;box-sizing: border-box;margin-bottom: 0.5em;}#sk-container-id-29 div.sk-estimator:hover {background-color: #d4ebff;}#sk-container-id-29 div.sk-parallel-item::after {content: \"\";width: 100%;border-bottom: 1px solid gray;flex-grow: 1;}#sk-container-id-29 div.sk-label:hover label.sk-toggleable__label {background-color: #d4ebff;}#sk-container-id-29 div.sk-serial::before {content: \"\";position: absolute;border-left: 1px solid gray;box-sizing: border-box;top: 0;bottom: 0;left: 50%;z-index: 0;}#sk-container-id-29 div.sk-serial {display: flex;flex-direction: column;align-items: center;background-color: white;padding-right: 0.2em;padding-left: 0.2em;position: relative;}#sk-container-id-29 div.sk-item {position: relative;z-index: 1;}#sk-container-id-29 div.sk-parallel {display: flex;align-items: stretch;justify-content: center;background-color: white;position: relative;}#sk-container-id-29 div.sk-item::before, #sk-container-id-29 div.sk-parallel-item::before {content: \"\";position: absolute;border-left: 1px solid gray;box-sizing: border-box;top: 0;bottom: 0;left: 50%;z-index: -1;}#sk-container-id-29 div.sk-parallel-item {display: flex;flex-direction: column;z-index: 1;position: relative;background-color: white;}#sk-container-id-29 div.sk-parallel-item:first-child::after {align-self: flex-end;width: 50%;}#sk-container-id-29 div.sk-parallel-item:last-child::after {align-self: flex-start;width: 50%;}#sk-container-id-29 div.sk-parallel-item:only-child::after {width: 0;}#sk-container-id-29 div.sk-dashed-wrapped {border: 1px dashed gray;margin: 0 0.4em 0.5em 0.4em;box-sizing: border-box;padding-bottom: 0.4em;background-color: white;}#sk-container-id-29 div.sk-label label {font-family: monospace;font-weight: bold;display: inline-block;line-height: 1.2em;}#sk-container-id-29 div.sk-label-container {text-align: center;}#sk-container-id-29 div.sk-container {/* jupyter's `normalize.less` sets `[hidden] { display: none; }` but bootstrap.min.css set `[hidden] { display: none !important; }` so we also need the `!important` here to be able to override the default hidden behavior on the sphinx rendered scikit-learn.org. See: https://github.com/scikit-learn/scikit-learn/issues/21755 */display: inline-block !important;position: relative;}#sk-container-id-29 div.sk-text-repr-fallback {display: none;}</style><div id=\"sk-container-id-29\" class=\"sk-top-container\"><div class=\"sk-text-repr-fallback\"><pre>Pipeline(steps=[(&#x27;columntransformer&#x27;,\n",
       "                 ColumnTransformer(transformers=[(&#x27;num&#x27;,\n",
       "                                                  Pipeline(steps=[(&#x27;simpleimputer&#x27;,\n",
       "                                                                   SimpleImputer(strategy=&#x27;median&#x27;))]),\n",
       "                                                  [&#x27;ACADMOS&#x27;]),\n",
       "                                                 (&#x27;power&#x27;,\n",
       "                                                  Pipeline(steps=[(&#x27;pipeline&#x27;,\n",
       "                                                                   Pipeline(steps=[(&#x27;simpleimputer&#x27;,\n",
       "                                                                                    SimpleImputer(strategy=&#x27;median&#x27;))])),\n",
       "                                                                  (&#x27;powertransformer&#x27;,\n",
       "                                                                   PowerTransformer())]),\n",
       "                                                  [&#x27;SPENDING&#x27;, &#x27;INCOME&#x27;,\n",
       "                                                   &#x27;AGE&#x27;]),\n",
       "                                                 (&#x27;cat&#x27;,\n",
       "                                                  OneHotEncoder(handle_unknown=&#x27;ignore&#x27;),\n",
       "                                                  [&#x27;AGE&#x27;])])),\n",
       "                (&#x27;randomforestclassifier&#x27;,\n",
       "                 RandomForestClassifier(max_depth=15, min_samples_leaf=3,\n",
       "                                        min_samples_split=3, n_estimators=55,\n",
       "                                        n_jobs=-1, random_state=42))])</pre><b>In a Jupyter environment, please rerun this cell to show the HTML representation or trust the notebook. <br />On GitHub, the HTML representation is unable to render, please try loading this page with nbviewer.org.</b></div><div class=\"sk-container\" hidden><div class=\"sk-item sk-dashed-wrapped\"><div class=\"sk-label-container\"><div class=\"sk-label sk-toggleable\"><input class=\"sk-toggleable__control sk-hidden--visually\" id=\"sk-estimator-id-289\" type=\"checkbox\" ><label for=\"sk-estimator-id-289\" class=\"sk-toggleable__label sk-toggleable__label-arrow\">Pipeline</label><div class=\"sk-toggleable__content\"><pre>Pipeline(steps=[(&#x27;columntransformer&#x27;,\n",
       "                 ColumnTransformer(transformers=[(&#x27;num&#x27;,\n",
       "                                                  Pipeline(steps=[(&#x27;simpleimputer&#x27;,\n",
       "                                                                   SimpleImputer(strategy=&#x27;median&#x27;))]),\n",
       "                                                  [&#x27;ACADMOS&#x27;]),\n",
       "                                                 (&#x27;power&#x27;,\n",
       "                                                  Pipeline(steps=[(&#x27;pipeline&#x27;,\n",
       "                                                                   Pipeline(steps=[(&#x27;simpleimputer&#x27;,\n",
       "                                                                                    SimpleImputer(strategy=&#x27;median&#x27;))])),\n",
       "                                                                  (&#x27;powertransformer&#x27;,\n",
       "                                                                   PowerTransformer())]),\n",
       "                                                  [&#x27;SPENDING&#x27;, &#x27;INCOME&#x27;,\n",
       "                                                   &#x27;AGE&#x27;]),\n",
       "                                                 (&#x27;cat&#x27;,\n",
       "                                                  OneHotEncoder(handle_unknown=&#x27;ignore&#x27;),\n",
       "                                                  [&#x27;AGE&#x27;])])),\n",
       "                (&#x27;randomforestclassifier&#x27;,\n",
       "                 RandomForestClassifier(max_depth=15, min_samples_leaf=3,\n",
       "                                        min_samples_split=3, n_estimators=55,\n",
       "                                        n_jobs=-1, random_state=42))])</pre></div></div></div><div class=\"sk-serial\"><div class=\"sk-item sk-dashed-wrapped\"><div class=\"sk-label-container\"><div class=\"sk-label sk-toggleable\"><input class=\"sk-toggleable__control sk-hidden--visually\" id=\"sk-estimator-id-290\" type=\"checkbox\" ><label for=\"sk-estimator-id-290\" class=\"sk-toggleable__label sk-toggleable__label-arrow\">columntransformer: ColumnTransformer</label><div class=\"sk-toggleable__content\"><pre>ColumnTransformer(transformers=[(&#x27;num&#x27;,\n",
       "                                 Pipeline(steps=[(&#x27;simpleimputer&#x27;,\n",
       "                                                  SimpleImputer(strategy=&#x27;median&#x27;))]),\n",
       "                                 [&#x27;ACADMOS&#x27;]),\n",
       "                                (&#x27;power&#x27;,\n",
       "                                 Pipeline(steps=[(&#x27;pipeline&#x27;,\n",
       "                                                  Pipeline(steps=[(&#x27;simpleimputer&#x27;,\n",
       "                                                                   SimpleImputer(strategy=&#x27;median&#x27;))])),\n",
       "                                                 (&#x27;powertransformer&#x27;,\n",
       "                                                  PowerTransformer())]),\n",
       "                                 [&#x27;SPENDING&#x27;, &#x27;INCOME&#x27;, &#x27;AGE&#x27;]),\n",
       "                                (&#x27;cat&#x27;, OneHotEncoder(handle_unknown=&#x27;ignore&#x27;),\n",
       "                                 [&#x27;AGE&#x27;])])</pre></div></div></div><div class=\"sk-parallel\"><div class=\"sk-parallel-item\"><div class=\"sk-item\"><div class=\"sk-label-container\"><div class=\"sk-label sk-toggleable\"><input class=\"sk-toggleable__control sk-hidden--visually\" id=\"sk-estimator-id-291\" type=\"checkbox\" ><label for=\"sk-estimator-id-291\" class=\"sk-toggleable__label sk-toggleable__label-arrow\">num</label><div class=\"sk-toggleable__content\"><pre>[&#x27;ACADMOS&#x27;]</pre></div></div></div><div class=\"sk-serial\"><div class=\"sk-item\"><div class=\"sk-serial\"><div class=\"sk-item\"><div class=\"sk-estimator sk-toggleable\"><input class=\"sk-toggleable__control sk-hidden--visually\" id=\"sk-estimator-id-292\" type=\"checkbox\" ><label for=\"sk-estimator-id-292\" class=\"sk-toggleable__label sk-toggleable__label-arrow\">SimpleImputer</label><div class=\"sk-toggleable__content\"><pre>SimpleImputer(strategy=&#x27;median&#x27;)</pre></div></div></div></div></div></div></div></div><div class=\"sk-parallel-item\"><div class=\"sk-item\"><div class=\"sk-label-container\"><div class=\"sk-label sk-toggleable\"><input class=\"sk-toggleable__control sk-hidden--visually\" id=\"sk-estimator-id-293\" type=\"checkbox\" ><label for=\"sk-estimator-id-293\" class=\"sk-toggleable__label sk-toggleable__label-arrow\">power</label><div class=\"sk-toggleable__content\"><pre>[&#x27;SPENDING&#x27;, &#x27;INCOME&#x27;, &#x27;AGE&#x27;]</pre></div></div></div><div class=\"sk-serial\"><div class=\"sk-item\"><div class=\"sk-serial\"><div class=\"sk-item\"><div class=\"sk-label-container\"><div class=\"sk-label sk-toggleable\"><input class=\"sk-toggleable__control sk-hidden--visually\" id=\"sk-estimator-id-294\" type=\"checkbox\" ><label for=\"sk-estimator-id-294\" class=\"sk-toggleable__label sk-toggleable__label-arrow\">pipeline: Pipeline</label><div class=\"sk-toggleable__content\"><pre>Pipeline(steps=[(&#x27;simpleimputer&#x27;, SimpleImputer(strategy=&#x27;median&#x27;))])</pre></div></div></div><div class=\"sk-serial\"><div class=\"sk-item\"><div class=\"sk-estimator sk-toggleable\"><input class=\"sk-toggleable__control sk-hidden--visually\" id=\"sk-estimator-id-295\" type=\"checkbox\" ><label for=\"sk-estimator-id-295\" class=\"sk-toggleable__label sk-toggleable__label-arrow\">SimpleImputer</label><div class=\"sk-toggleable__content\"><pre>SimpleImputer(strategy=&#x27;median&#x27;)</pre></div></div></div></div></div><div class=\"sk-item\"><div class=\"sk-estimator sk-toggleable\"><input class=\"sk-toggleable__control sk-hidden--visually\" id=\"sk-estimator-id-296\" type=\"checkbox\" ><label for=\"sk-estimator-id-296\" class=\"sk-toggleable__label sk-toggleable__label-arrow\">PowerTransformer</label><div class=\"sk-toggleable__content\"><pre>PowerTransformer()</pre></div></div></div></div></div></div></div></div><div class=\"sk-parallel-item\"><div class=\"sk-item\"><div class=\"sk-label-container\"><div class=\"sk-label sk-toggleable\"><input class=\"sk-toggleable__control sk-hidden--visually\" id=\"sk-estimator-id-297\" type=\"checkbox\" ><label for=\"sk-estimator-id-297\" class=\"sk-toggleable__label sk-toggleable__label-arrow\">cat</label><div class=\"sk-toggleable__content\"><pre>[&#x27;AGE&#x27;]</pre></div></div></div><div class=\"sk-serial\"><div class=\"sk-item\"><div class=\"sk-estimator sk-toggleable\"><input class=\"sk-toggleable__control sk-hidden--visually\" id=\"sk-estimator-id-298\" type=\"checkbox\" ><label for=\"sk-estimator-id-298\" class=\"sk-toggleable__label sk-toggleable__label-arrow\">OneHotEncoder</label><div class=\"sk-toggleable__content\"><pre>OneHotEncoder(handle_unknown=&#x27;ignore&#x27;)</pre></div></div></div></div></div></div></div></div><div class=\"sk-item\"><div class=\"sk-estimator sk-toggleable\"><input class=\"sk-toggleable__control sk-hidden--visually\" id=\"sk-estimator-id-299\" type=\"checkbox\" ><label for=\"sk-estimator-id-299\" class=\"sk-toggleable__label sk-toggleable__label-arrow\">RandomForestClassifier</label><div class=\"sk-toggleable__content\"><pre>RandomForestClassifier(max_depth=15, min_samples_leaf=3, min_samples_split=3,\n",
       "                       n_estimators=55, n_jobs=-1, random_state=42)</pre></div></div></div></div></div></div></div>"
      ],
      "text/plain": [
       "Pipeline(steps=[('columntransformer',\n",
       "                 ColumnTransformer(transformers=[('num',\n",
       "                                                  Pipeline(steps=[('simpleimputer',\n",
       "                                                                   SimpleImputer(strategy='median'))]),\n",
       "                                                  ['ACADMOS']),\n",
       "                                                 ('power',\n",
       "                                                  Pipeline(steps=[('pipeline',\n",
       "                                                                   Pipeline(steps=[('simpleimputer',\n",
       "                                                                                    SimpleImputer(strategy='median'))])),\n",
       "                                                                  ('powertransformer',\n",
       "                                                                   PowerTransformer())]),\n",
       "                                                  ['SPENDING', 'INCOME',\n",
       "                                                   'AGE']),\n",
       "                                                 ('cat',\n",
       "                                                  OneHotEncoder(handle_unknown='ignore'),\n",
       "                                                  ['AGE'])])),\n",
       "                ('randomforestclassifier',\n",
       "                 RandomForestClassifier(max_depth=15, min_samples_leaf=3,\n",
       "                                        min_samples_split=3, n_estimators=55,\n",
       "                                        n_jobs=-1, random_state=42))])"
      ]
     },
     "execution_count": 326,
     "metadata": {},
     "output_type": "execute_result"
    }
   ],
   "source": [
    "rf_pipe.fit(X_train,y_train)"
   ]
  },
  {
   "cell_type": "code",
   "execution_count": 327,
   "id": "af55e107-1cd9-4e18-813a-9c62c7503d8a",
   "metadata": {},
   "outputs": [
    {
     "name": "stdout",
     "output_type": "stream",
     "text": [
      "RF_model: recall: 0.0\n",
      "RF_model: precision: 0.0\n",
      "RF_model: F1 Score: 0.0\n",
      "RF_model: accuracy: 0.905065307422746\n"
     ]
    },
    {
     "name": "stderr",
     "output_type": "stream",
     "text": [
      "/home/ostyk/Desktop/repos/credit-risk-score/env/lib/python3.8/site-packages/sklearn/metrics/_classification.py:1344: UndefinedMetricWarning:\n",
      "\n",
      "Precision is ill-defined and being set to 0.0 due to no predicted samples. Use `zero_division` parameter to control this behavior.\n",
      "\n"
     ]
    }
   ],
   "source": [
    "y_true = y_test\n",
    "y_pred = rf_pipe.predict(X_test)\n",
    "print('RF_model: recall:', recall_score(y_true, y_pred))\n",
    "print('RF_model: precision:',precision_score(y_true, y_pred))\n",
    "print('RF_model: F1 Score:', f1_score(y_true, y_pred))\n",
    "print('RF_model: accuracy:', accuracy_score(y_true, y_pred))"
   ]
  },
  {
   "cell_type": "markdown",
   "id": "6df35aea-7659-4553-92c5-2eded1c850dc",
   "metadata": {},
   "source": [
    "# catboost"
   ]
  },
  {
   "cell_type": "code",
   "execution_count": 328,
   "id": "3f849ecc-b0f4-4832-bc15-f9ab4580ecd8",
   "metadata": {},
   "outputs": [
    {
     "name": "stdout",
     "output_type": "stream",
     "text": [
      "Learning rate set to 0.014547\n",
      "0:\tlearn: 0.0003018\ttotal: 4.37ms\tremaining: 8.73s\n",
      "100:\tlearn: 0.1693329\ttotal: 424ms\tremaining: 7.97s\n",
      "200:\tlearn: 0.1895563\ttotal: 830ms\tremaining: 7.42s\n",
      "300:\tlearn: 0.2203441\ttotal: 1.24s\tremaining: 6.98s\n",
      "400:\tlearn: 0.2574706\ttotal: 1.65s\tremaining: 6.56s\n",
      "500:\tlearn: 0.2873529\ttotal: 2.05s\tremaining: 6.13s\n",
      "600:\tlearn: 0.3127075\ttotal: 2.46s\tremaining: 5.74s\n",
      "700:\tlearn: 0.3371567\ttotal: 2.88s\tremaining: 5.33s\n",
      "800:\tlearn: 0.3600966\ttotal: 3.29s\tremaining: 4.93s\n",
      "900:\tlearn: 0.3797163\ttotal: 3.71s\tremaining: 4.52s\n"
     ]
    },
    {
     "ename": "KeyboardInterrupt",
     "evalue": "",
     "output_type": "error",
     "traceback": [
      "\u001b[0;31m---------------------------------------------------------------------------\u001b[0m",
      "\u001b[0;31mKeyboardInterrupt\u001b[0m                         Traceback (most recent call last)",
      "Cell \u001b[0;32mIn[328], line 7\u001b[0m\n\u001b[1;32m      4\u001b[0m \u001b[38;5;66;03m# giving all values to pipeline\u001b[39;00m\n\u001b[1;32m      5\u001b[0m catboost_pipe \u001b[38;5;241m=\u001b[39m make_pipeline(preprocessor,model_name)\n\u001b[0;32m----> 7\u001b[0m \u001b[43mcatboost_pipe\u001b[49m\u001b[38;5;241;43m.\u001b[39;49m\u001b[43mfit\u001b[49m\u001b[43m(\u001b[49m\u001b[43mX_train\u001b[49m\u001b[43m,\u001b[49m\u001b[43my_train\u001b[49m\u001b[43m)\u001b[49m\n",
      "File \u001b[0;32m~/Desktop/repos/credit-risk-score/env/lib/python3.8/site-packages/sklearn/pipeline.py:406\u001b[0m, in \u001b[0;36mPipeline.fit\u001b[0;34m(self, X, y, **fit_params)\u001b[0m\n\u001b[1;32m    404\u001b[0m     \u001b[38;5;28;01mif\u001b[39;00m \u001b[38;5;28mself\u001b[39m\u001b[38;5;241m.\u001b[39m_final_estimator \u001b[38;5;241m!=\u001b[39m \u001b[38;5;124m\"\u001b[39m\u001b[38;5;124mpassthrough\u001b[39m\u001b[38;5;124m\"\u001b[39m:\n\u001b[1;32m    405\u001b[0m         fit_params_last_step \u001b[38;5;241m=\u001b[39m fit_params_steps[\u001b[38;5;28mself\u001b[39m\u001b[38;5;241m.\u001b[39msteps[\u001b[38;5;241m-\u001b[39m\u001b[38;5;241m1\u001b[39m][\u001b[38;5;241m0\u001b[39m]]\n\u001b[0;32m--> 406\u001b[0m         \u001b[38;5;28;43mself\u001b[39;49m\u001b[38;5;241;43m.\u001b[39;49m\u001b[43m_final_estimator\u001b[49m\u001b[38;5;241;43m.\u001b[39;49m\u001b[43mfit\u001b[49m\u001b[43m(\u001b[49m\u001b[43mXt\u001b[49m\u001b[43m,\u001b[49m\u001b[43m \u001b[49m\u001b[43my\u001b[49m\u001b[43m,\u001b[49m\u001b[43m \u001b[49m\u001b[38;5;241;43m*\u001b[39;49m\u001b[38;5;241;43m*\u001b[39;49m\u001b[43mfit_params_last_step\u001b[49m\u001b[43m)\u001b[49m\n\u001b[1;32m    408\u001b[0m \u001b[38;5;28;01mreturn\u001b[39;00m \u001b[38;5;28mself\u001b[39m\n",
      "File \u001b[0;32m~/Desktop/repos/credit-risk-score/env/lib/python3.8/site-packages/catboost/core.py:5128\u001b[0m, in \u001b[0;36mCatBoostClassifier.fit\u001b[0;34m(self, X, y, cat_features, text_features, embedding_features, sample_weight, baseline, use_best_model, eval_set, verbose, logging_level, plot, plot_file, column_description, verbose_eval, metric_period, silent, early_stopping_rounds, save_snapshot, snapshot_file, snapshot_interval, init_model, callbacks, log_cout, log_cerr)\u001b[0m\n\u001b[1;32m   5125\u001b[0m \u001b[38;5;28;01mif\u001b[39;00m \u001b[38;5;124m'\u001b[39m\u001b[38;5;124mloss_function\u001b[39m\u001b[38;5;124m'\u001b[39m \u001b[38;5;129;01min\u001b[39;00m params:\n\u001b[1;32m   5126\u001b[0m     CatBoostClassifier\u001b[38;5;241m.\u001b[39m_check_is_compatible_loss(params[\u001b[38;5;124m'\u001b[39m\u001b[38;5;124mloss_function\u001b[39m\u001b[38;5;124m'\u001b[39m])\n\u001b[0;32m-> 5128\u001b[0m \u001b[38;5;28;43mself\u001b[39;49m\u001b[38;5;241;43m.\u001b[39;49m\u001b[43m_fit\u001b[49m\u001b[43m(\u001b[49m\u001b[43mX\u001b[49m\u001b[43m,\u001b[49m\u001b[43m \u001b[49m\u001b[43my\u001b[49m\u001b[43m,\u001b[49m\u001b[43m \u001b[49m\u001b[43mcat_features\u001b[49m\u001b[43m,\u001b[49m\u001b[43m \u001b[49m\u001b[43mtext_features\u001b[49m\u001b[43m,\u001b[49m\u001b[43m \u001b[49m\u001b[43membedding_features\u001b[49m\u001b[43m,\u001b[49m\u001b[43m \u001b[49m\u001b[38;5;28;43;01mNone\u001b[39;49;00m\u001b[43m,\u001b[49m\u001b[43m \u001b[49m\u001b[43msample_weight\u001b[49m\u001b[43m,\u001b[49m\u001b[43m \u001b[49m\u001b[38;5;28;43;01mNone\u001b[39;49;00m\u001b[43m,\u001b[49m\u001b[43m \u001b[49m\u001b[38;5;28;43;01mNone\u001b[39;49;00m\u001b[43m,\u001b[49m\u001b[43m \u001b[49m\u001b[38;5;28;43;01mNone\u001b[39;49;00m\u001b[43m,\u001b[49m\u001b[43m \u001b[49m\u001b[38;5;28;43;01mNone\u001b[39;49;00m\u001b[43m,\u001b[49m\u001b[43m \u001b[49m\u001b[43mbaseline\u001b[49m\u001b[43m,\u001b[49m\u001b[43m \u001b[49m\u001b[43muse_best_model\u001b[49m\u001b[43m,\u001b[49m\n\u001b[1;32m   5129\u001b[0m \u001b[43m          \u001b[49m\u001b[43meval_set\u001b[49m\u001b[43m,\u001b[49m\u001b[43m \u001b[49m\u001b[43mverbose\u001b[49m\u001b[43m,\u001b[49m\u001b[43m \u001b[49m\u001b[43mlogging_level\u001b[49m\u001b[43m,\u001b[49m\u001b[43m \u001b[49m\u001b[43mplot\u001b[49m\u001b[43m,\u001b[49m\u001b[43m \u001b[49m\u001b[43mplot_file\u001b[49m\u001b[43m,\u001b[49m\u001b[43m \u001b[49m\u001b[43mcolumn_description\u001b[49m\u001b[43m,\u001b[49m\u001b[43m \u001b[49m\u001b[43mverbose_eval\u001b[49m\u001b[43m,\u001b[49m\u001b[43m \u001b[49m\u001b[43mmetric_period\u001b[49m\u001b[43m,\u001b[49m\n\u001b[1;32m   5130\u001b[0m \u001b[43m          \u001b[49m\u001b[43msilent\u001b[49m\u001b[43m,\u001b[49m\u001b[43m \u001b[49m\u001b[43mearly_stopping_rounds\u001b[49m\u001b[43m,\u001b[49m\u001b[43m \u001b[49m\u001b[43msave_snapshot\u001b[49m\u001b[43m,\u001b[49m\u001b[43m \u001b[49m\u001b[43msnapshot_file\u001b[49m\u001b[43m,\u001b[49m\u001b[43m \u001b[49m\u001b[43msnapshot_interval\u001b[49m\u001b[43m,\u001b[49m\u001b[43m \u001b[49m\u001b[43minit_model\u001b[49m\u001b[43m,\u001b[49m\u001b[43m \u001b[49m\u001b[43mcallbacks\u001b[49m\u001b[43m,\u001b[49m\u001b[43m \u001b[49m\u001b[43mlog_cout\u001b[49m\u001b[43m,\u001b[49m\u001b[43m \u001b[49m\u001b[43mlog_cerr\u001b[49m\u001b[43m)\u001b[49m\n\u001b[1;32m   5131\u001b[0m \u001b[38;5;28;01mreturn\u001b[39;00m \u001b[38;5;28mself\u001b[39m\n",
      "File \u001b[0;32m~/Desktop/repos/credit-risk-score/env/lib/python3.8/site-packages/catboost/core.py:2355\u001b[0m, in \u001b[0;36mCatBoost._fit\u001b[0;34m(self, X, y, cat_features, text_features, embedding_features, pairs, sample_weight, group_id, group_weight, subgroup_id, pairs_weight, baseline, use_best_model, eval_set, verbose, logging_level, plot, plot_file, column_description, verbose_eval, metric_period, silent, early_stopping_rounds, save_snapshot, snapshot_file, snapshot_interval, init_model, callbacks, log_cout, log_cerr)\u001b[0m\n\u001b[1;32m   2351\u001b[0m allow_clear_pool \u001b[38;5;241m=\u001b[39m train_params[\u001b[38;5;124m\"\u001b[39m\u001b[38;5;124mallow_clear_pool\u001b[39m\u001b[38;5;124m\"\u001b[39m]\n\u001b[1;32m   2353\u001b[0m \u001b[38;5;28;01mwith\u001b[39;00m log_fixup(log_cout, log_cerr), \\\n\u001b[1;32m   2354\u001b[0m     plot_wrapper(plot, plot_file, \u001b[38;5;124m'\u001b[39m\u001b[38;5;124mTraining plots\u001b[39m\u001b[38;5;124m'\u001b[39m, [_get_train_dir(\u001b[38;5;28mself\u001b[39m\u001b[38;5;241m.\u001b[39mget_params())]):\n\u001b[0;32m-> 2355\u001b[0m     \u001b[38;5;28;43mself\u001b[39;49m\u001b[38;5;241;43m.\u001b[39;49m\u001b[43m_train\u001b[49m\u001b[43m(\u001b[49m\n\u001b[1;32m   2356\u001b[0m \u001b[43m        \u001b[49m\u001b[43mtrain_pool\u001b[49m\u001b[43m,\u001b[49m\n\u001b[1;32m   2357\u001b[0m \u001b[43m        \u001b[49m\u001b[43mtrain_params\u001b[49m\u001b[43m[\u001b[49m\u001b[38;5;124;43m\"\u001b[39;49m\u001b[38;5;124;43meval_sets\u001b[39;49m\u001b[38;5;124;43m\"\u001b[39;49m\u001b[43m]\u001b[49m\u001b[43m,\u001b[49m\n\u001b[1;32m   2358\u001b[0m \u001b[43m        \u001b[49m\u001b[43mparams\u001b[49m\u001b[43m,\u001b[49m\n\u001b[1;32m   2359\u001b[0m \u001b[43m        \u001b[49m\u001b[43mallow_clear_pool\u001b[49m\u001b[43m,\u001b[49m\n\u001b[1;32m   2360\u001b[0m \u001b[43m        \u001b[49m\u001b[43mtrain_params\u001b[49m\u001b[43m[\u001b[49m\u001b[38;5;124;43m\"\u001b[39;49m\u001b[38;5;124;43minit_model\u001b[39;49m\u001b[38;5;124;43m\"\u001b[39;49m\u001b[43m]\u001b[49m\n\u001b[1;32m   2361\u001b[0m \u001b[43m    \u001b[49m\u001b[43m)\u001b[49m\n\u001b[1;32m   2363\u001b[0m \u001b[38;5;66;03m# Have property feature_importance possibly set\u001b[39;00m\n\u001b[1;32m   2364\u001b[0m loss \u001b[38;5;241m=\u001b[39m \u001b[38;5;28mself\u001b[39m\u001b[38;5;241m.\u001b[39m_object\u001b[38;5;241m.\u001b[39m_get_loss_function_name()\n",
      "File \u001b[0;32m~/Desktop/repos/credit-risk-score/env/lib/python3.8/site-packages/catboost/core.py:1759\u001b[0m, in \u001b[0;36m_CatBoostBase._train\u001b[0;34m(self, train_pool, test_pool, params, allow_clear_pool, init_model)\u001b[0m\n\u001b[1;32m   1758\u001b[0m \u001b[38;5;28;01mdef\u001b[39;00m \u001b[38;5;21m_train\u001b[39m(\u001b[38;5;28mself\u001b[39m, train_pool, test_pool, params, allow_clear_pool, init_model):\n\u001b[0;32m-> 1759\u001b[0m     \u001b[38;5;28;43mself\u001b[39;49m\u001b[38;5;241;43m.\u001b[39;49m\u001b[43m_object\u001b[49m\u001b[38;5;241;43m.\u001b[39;49m\u001b[43m_train\u001b[49m\u001b[43m(\u001b[49m\u001b[43mtrain_pool\u001b[49m\u001b[43m,\u001b[49m\u001b[43m \u001b[49m\u001b[43mtest_pool\u001b[49m\u001b[43m,\u001b[49m\u001b[43m \u001b[49m\u001b[43mparams\u001b[49m\u001b[43m,\u001b[49m\u001b[43m \u001b[49m\u001b[43mallow_clear_pool\u001b[49m\u001b[43m,\u001b[49m\u001b[43m \u001b[49m\u001b[43minit_model\u001b[49m\u001b[38;5;241;43m.\u001b[39;49m\u001b[43m_object\u001b[49m\u001b[43m \u001b[49m\u001b[38;5;28;43;01mif\u001b[39;49;00m\u001b[43m \u001b[49m\u001b[43minit_model\u001b[49m\u001b[43m \u001b[49m\u001b[38;5;28;43;01melse\u001b[39;49;00m\u001b[43m \u001b[49m\u001b[38;5;28;43;01mNone\u001b[39;49;00m\u001b[43m)\u001b[49m\n\u001b[1;32m   1760\u001b[0m     \u001b[38;5;28mself\u001b[39m\u001b[38;5;241m.\u001b[39m_set_trained_model_attributes()\n",
      "File \u001b[0;32m_catboost.pyx:4623\u001b[0m, in \u001b[0;36m_catboost._CatBoost._train\u001b[0;34m()\u001b[0m\n",
      "File \u001b[0;32m_catboost.pyx:4672\u001b[0m, in \u001b[0;36m_catboost._CatBoost._train\u001b[0;34m()\u001b[0m\n",
      "\u001b[0;31mKeyboardInterrupt\u001b[0m: "
     ]
    }
   ],
   "source": [
    "# choosing model\n",
    "model_name = cat.CatBoostClassifier(iterations=2000, verbose=100,eval_metric=\"Recall\")\n",
    "\n",
    "# giving all values to pipeline\n",
    "catboost_pipe = make_pipeline(preprocessor,model_name)\n",
    "\n",
    "catboost_pipe.fit(X_train,y_train)\n"
   ]
  },
  {
   "cell_type": "code",
   "execution_count": null,
   "id": "00096d84-5a45-486a-9f4a-6b2a80a26ae5",
   "metadata": {},
   "outputs": [],
   "source": [
    "# predict\n",
    "y_true = y_test\n",
    "y_pred = catboost_pipe.predict(X_test)\n",
    "print('Catboost_model: recall:', recall_score(y_true, y_pred))\n",
    "print('Catboost_model: precision:',precision_score(y_true, y_pred))\n",
    "print('catboost_model: F1 Score:', f1_score(y_true, y_pred))\n",
    "print('Catboost_model: accuracy:', accuracy_score(y_true, y_pred))"
   ]
  },
  {
   "cell_type": "code",
   "execution_count": 276,
   "id": "5a014e84-8f3e-46a8-b473-f8aa9f8c94b5",
   "metadata": {},
   "outputs": [
    {
     "name": "stdout",
     "output_type": "stream",
     "text": [
      "Catboost_model: recall: 0.37919463087248323\n",
      "Catboost_model: precision: 0.16096866096866097\n",
      "catboost_model: F1 Score: 0.226\n",
      "Catboost_model: accuracy: 0.7534246575342466\n"
     ]
    }
   ],
   "source": [
    "# predict\n",
    "y_true = y_test\n",
    "y_pred = catboost_pipe.predict(X_test)\n",
    "print('Catboost_model: recall:', recall_score(y_true, y_pred))\n",
    "print('Catboost_model: precision:',precision_score(y_true, y_pred))\n",
    "print('catboost_model: F1 Score:', f1_score(y_true, y_pred))\n",
    "print('Catboost_model: accuracy:', accuracy_score(y_true, y_pred))"
   ]
  },
  {
   "cell_type": "code",
   "execution_count": null,
   "id": "448e94c3-e2d6-4815-84b1-90cf509ba986",
   "metadata": {},
   "outputs": [],
   "source": []
  },
  {
   "cell_type": "markdown",
   "id": "52fe3451-fcd6-4765-aa0c-d441bd634ebc",
   "metadata": {},
   "source": [
    "# Feature importance"
   ]
  },
  {
   "cell_type": "code",
   "execution_count": 224,
   "id": "776f823d-becd-4aec-bf31-4b8b0ecdae9b",
   "metadata": {},
   "outputs": [
    {
     "data": {
      "image/png": "[encoded data removed]",
      "text/plain": [
       "<Figure size 640x480 with 1 Axes>"
      ]
     },
     "metadata": {},
     "output_type": "display_data"
    }
   ],
   "source": [
    "# # load model\n",
    "# with open('RF_model.pkl', 'rb') as f:\n",
    "#     loaded_classifier_rf = pickle.load(f)\n",
    "    \n",
    "result = permutation_importance(rf_pipe, X_test, y_test,\n",
    "                           n_repeats=30,\n",
    "                           random_state=0)\n",
    "sorted_importances_idx = result.importances_mean.argsort()\n",
    "importances = pd.DataFrame(\n",
    "    result.importances[sorted_importances_idx].T,\n",
    "    columns=X_test.columns[sorted_importances_idx],\n",
    ")\n",
    "ax = importances.plot.box(vert=False, whis=10)\n",
    "ax.set_title(\"Permutation Importances (test set)\")\n",
    "ax.axvline(x=0, color=\"k\", linestyle=\"--\")\n",
    "ax.set_xlabel(\"Decrease in accuracy score\")\n",
    "ax.figure.tight_layout()\n"
   ]
  },
  {
   "cell_type": "code",
   "execution_count": 225,
   "id": "0e52d1e5-c4de-446f-b034-a9938ffbffaa",
   "metadata": {},
   "outputs": [
    {
     "data": {
      "image/png": "[encoded data removed]",
      "text/plain": [
       "<Figure size 640x480 with 1 Axes>"
      ]
     },
     "metadata": {},
     "output_type": "display_data"
    }
   ],
   "source": [
    "from sklearn.inspection import permutation_importance\n",
    "result = permutation_importance(catboost_pipe, X_test, y_test,\n",
    "                           n_repeats=30,\n",
    "                           random_state=0)\n",
    "sorted_importances_idx = result.importances_mean.argsort()\n",
    "importances = pd.DataFrame(\n",
    "    result.importances[sorted_importances_idx].T,\n",
    "    columns=X_test.columns[sorted_importances_idx],\n",
    ")\n",
    "ax = importances.plot.box(vert=False, whis=10)\n",
    "ax.set_title(\"Permutation Importances (test set)\")\n",
    "ax.axvline(x=0, color=\"k\", linestyle=\"--\")\n",
    "ax.set_xlabel(\"Decrease in accuracy score\")\n",
    "ax.figure.tight_layout()"
   ]
  },
  {
   "cell_type": "markdown",
   "id": "1dfa34c0-87bd-411e-a33e-9e018db8c1a6",
   "metadata": {},
   "source": [
    "# Drop columns with least important"
   ]
  },
  {
   "cell_type": "markdown",
   "id": "c8b5ba8b-581e-4a58-ba8e-e5b5e45412a7",
   "metadata": {},
   "source": [
    "# Present final model"
   ]
  },
  {
   "cell_type": "code",
   "execution_count": null,
   "id": "560a6cc7-b268-4f32-9b28-d9c24a3ec481",
   "metadata": {},
   "outputs": [],
   "source": []
  }
 ],
 "metadata": {
  "kernelspec": {
   "display_name": "Python 3 (ipykernel)",
   "language": "python",
   "name": "python3"
  },
  "language_info": {
   "codemirror_mode": {
    "name": "ipython",
    "version": 3
   },
   "file_extension": ".py",
   "mimetype": "text/x-python",
   "name": "python",
   "nbconvert_exporter": "python",
   "pygments_lexer": "ipython3",
   "version": "3.8.10"
  }
 },
 "nbformat": 4,
 "nbformat_minor": 5
}
